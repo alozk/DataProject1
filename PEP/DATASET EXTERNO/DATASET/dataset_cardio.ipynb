{
  "nbformat": 4,
  "nbformat_minor": 0,
  "metadata": {
    "colab": {
      "name": "dataset.cardio.ipynb",
      "provenance": [],
      "collapsed_sections": [
        "ghiE3yFmEoK8",
        "kCdUCqv7EyRP",
        "CGfJ4emnEhnJ",
        "JW8jm0dgQ3hC",
        "WyDbqBEUHCO3",
        "PJyMj62QLyiB",
        "2NoSoBpXDuFh",
        "rxC1z74uwZEy",
        "6kDrG-wytWNl"
      ]
    },
    "kernelspec": {
      "name": "python3",
      "display_name": "Python 3"
    },
    "language_info": {
      "name": "python"
    }
  },
  "cells": [
    {
      "cell_type": "markdown",
      "source": [
        "URL DEL DATASET: [EDA cardiovascular data](https://www.kaggle.com/sulianova/eda-cardiovascular-data)"
      ],
      "metadata": {
        "id": "1r0UmO07NPYL"
      }
    },
    {
      "cell_type": "markdown",
      "source": [
        "# Importamos librerías necesarias\n"
      ],
      "metadata": {
        "id": "ghiE3yFmEoK8"
      }
    },
    {
      "cell_type": "code",
      "execution_count": 188,
      "metadata": {
        "id": "bC-2SEjt3ofg"
      },
      "outputs": [],
      "source": [
        "import os\n",
        "import numpy as np\n",
        "import pandas as pd\n",
        "from pandas.api.types import CategoricalDtype\n",
        "import matplotlib.pyplot as plt\n",
        "import seaborn as sns\n",
        "import scipy.stats as stats  \n",
        "from scipy.stats.stats import pearsonr\n",
        "from statsmodels.formula.api import ols\n",
        "import math\n",
        "from google.colab import drive"
      ]
    },
    {
      "cell_type": "markdown",
      "source": [
        "# Preparamos nuestro dataset"
      ],
      "metadata": {
        "id": "kCdUCqv7EyRP"
      }
    },
    {
      "cell_type": "code",
      "source": [
        "drive.mount('mydrive')"
      ],
      "metadata": {
        "colab": {
          "base_uri": "https://localhost:8080/"
        },
        "id": "W0ObvaBB5JOM",
        "outputId": "93bb10e0-0dc8-4289-d492-c03eb5bf10bf"
      },
      "execution_count": 189,
      "outputs": [
        {
          "output_type": "stream",
          "name": "stdout",
          "text": [
            "Drive already mounted at mydrive; to attempt to forcibly remount, call drive.mount(\"mydrive\", force_remount=True).\n"
          ]
        }
      ]
    },
    {
      "cell_type": "code",
      "source": [
        "dataset = pd.read_csv (\"/content/mydrive/MyDrive/EDEM/Data Project/cardio.csv\", sep=\",\")"
      ],
      "metadata": {
        "id": "EiUN62Vn5R4H"
      },
      "execution_count": 190,
      "outputs": []
    },
    {
      "cell_type": "markdown",
      "source": [
        "Antes de trabajar con el dataset comprobamos que no hay ningún valor que falte o sea null"
      ],
      "metadata": {
        "id": "93d0Gwjcg3hQ"
      }
    },
    {
      "cell_type": "code",
      "source": [
        "dataset.isnull().values.any()"
      ],
      "metadata": {
        "colab": {
          "base_uri": "https://localhost:8080/"
        },
        "id": "QS13A8BZg1By",
        "outputId": "66b8a605-bfce-4e16-ce16-bd0eb755e550"
      },
      "execution_count": 191,
      "outputs": [
        {
          "output_type": "execute_result",
          "data": {
            "text/plain": [
              "False"
            ]
          },
          "metadata": {},
          "execution_count": 191
        }
      ]
    },
    {
      "cell_type": "code",
      "source": [
        "#Guardo las variables que voy a utilizar\n",
        "age = dataset.age  #Este edad está en días\n",
        "dataset['years_old'] = (dataset['age'] / 365).round().astype('int') #Creo la variable 'years_old', la cual es 'age' pero dividida entre 365 para tener la edad en años\n",
        "sistolica = dataset.ap_hi\n",
        "diastolica = dataset.ap_lo\n",
        "colesterol = dataset.cholesterol\n",
        "fumador = dataset.smoke\n",
        "bebedor = dataset.alco\n",
        "activo = dataset.active"
      ],
      "metadata": {
        "id": "ncKNhT_H9qTL"
      },
      "execution_count": 192,
      "outputs": []
    },
    {
      "cell_type": "markdown",
      "source": [
        "Para las variables nominales, aclarar lo siguiente:\n",
        "En 'gender': el valor 1 es mujeres y el valor 2 es hombres\n",
        "En 'cholesterol': el valor 1 es saludable, 2 es riesgo y 3 es no saludable\n",
        "En 'active': el valor 0 es no actividad física y el 1 es que si lo hay\n",
        "En 'cardio': el valor 0 es no problemas cardíacos y el 1 es que si los hay\n",
        "\n",
        "De modo lo creamos las variables_cat para que quede clarificado"
      ],
      "metadata": {
        "id": "5SdXmTuMLuCU"
      }
    },
    {
      "cell_type": "code",
      "source": [
        "dataset.loc[(dataset['gender']==1),\"gender_cat\"]= \"Female\"\n",
        "dataset.loc[(dataset['gender']==2),\"gender_cat\"]= \"Male\"\n",
        "dataset.loc[(dataset['cholesterol']==1),\"chol_cat\"]= \"Saludable\"\n",
        "dataset.loc[(dataset['cholesterol']==2),\"chol_cat\"]= \"Elevado\"\n",
        "dataset.loc[(dataset['cholesterol']==3),\"chol_cat\"]= \"No saludable\"\n",
        "dataset.loc[(dataset['smoke']==0),\"smoke_cat\"]= \"No fumador\"\n",
        "dataset.loc[(dataset['smoke']==1),\"smoke_cat\"]= \"Fumador\"\n",
        "dataset.loc[(dataset['alco']==0),\"alco_cat\"]= \"No bebe\"\n",
        "dataset.loc[(dataset['alco']==1),\"alco_cat\"]= \"Bebe\"\n",
        "dataset.loc[(dataset['active']==0),\"active_cat\"]= \"No hace ejercicio\"\n",
        "dataset.loc[(dataset['active']==1),\"active_cat\"]= \"Hace ejercicio\"\n",
        "dataset.loc[(dataset['cardio']==0),\"cardio_cat\"]= \"Sin reporte cardiovascular\"\n",
        "dataset.loc[(dataset['cardio']==1),\"cardio_cat\"]= \"Con reporte cardiovascular\""
      ],
      "metadata": {
        "id": "3pwbqpoBK3sK"
      },
      "execution_count": 193,
      "outputs": []
    },
    {
      "cell_type": "markdown",
      "source": [
        "Mostramos los cambios y eliminamos las columnas que no vamos a trabajar para una visión más clara"
      ],
      "metadata": {
        "id": "uKG0HE0iNFWQ"
      }
    },
    {
      "cell_type": "code",
      "source": [
        "dataset.drop(['id','height', 'weight','gluc','ap_hi','ap_lo'], axis=1)"
      ],
      "metadata": {
        "colab": {
          "base_uri": "https://localhost:8080/",
          "height": 0
        },
        "id": "RsoqpVF0MEb2",
        "outputId": "48b5a24f-daee-417a-ecc3-c8968760daa8"
      },
      "execution_count": 194,
      "outputs": [
        {
          "output_type": "execute_result",
          "data": {
            "text/html": [
              "\n",
              "  <div id=\"df-a3add16d-d0af-4141-b5b5-ac61fc728346\">\n",
              "    <div class=\"colab-df-container\">\n",
              "      <div>\n",
              "<style scoped>\n",
              "    .dataframe tbody tr th:only-of-type {\n",
              "        vertical-align: middle;\n",
              "    }\n",
              "\n",
              "    .dataframe tbody tr th {\n",
              "        vertical-align: top;\n",
              "    }\n",
              "\n",
              "    .dataframe thead th {\n",
              "        text-align: right;\n",
              "    }\n",
              "</style>\n",
              "<table border=\"1\" class=\"dataframe\">\n",
              "  <thead>\n",
              "    <tr style=\"text-align: right;\">\n",
              "      <th></th>\n",
              "      <th>age</th>\n",
              "      <th>gender</th>\n",
              "      <th>cholesterol</th>\n",
              "      <th>smoke</th>\n",
              "      <th>alco</th>\n",
              "      <th>active</th>\n",
              "      <th>cardio</th>\n",
              "      <th>years_old</th>\n",
              "      <th>gender_cat</th>\n",
              "      <th>chol_cat</th>\n",
              "      <th>smoke_cat</th>\n",
              "      <th>alco_cat</th>\n",
              "      <th>active_cat</th>\n",
              "      <th>cardio_cat</th>\n",
              "    </tr>\n",
              "  </thead>\n",
              "  <tbody>\n",
              "    <tr>\n",
              "      <th>0</th>\n",
              "      <td>18393</td>\n",
              "      <td>2</td>\n",
              "      <td>1</td>\n",
              "      <td>0</td>\n",
              "      <td>0</td>\n",
              "      <td>1</td>\n",
              "      <td>0</td>\n",
              "      <td>50</td>\n",
              "      <td>Male</td>\n",
              "      <td>Saludable</td>\n",
              "      <td>No fumador</td>\n",
              "      <td>No bebe</td>\n",
              "      <td>Hace ejercicio</td>\n",
              "      <td>Sin reporte cardiovascular</td>\n",
              "    </tr>\n",
              "    <tr>\n",
              "      <th>1</th>\n",
              "      <td>20228</td>\n",
              "      <td>1</td>\n",
              "      <td>3</td>\n",
              "      <td>0</td>\n",
              "      <td>0</td>\n",
              "      <td>1</td>\n",
              "      <td>1</td>\n",
              "      <td>55</td>\n",
              "      <td>Female</td>\n",
              "      <td>No saludable</td>\n",
              "      <td>No fumador</td>\n",
              "      <td>No bebe</td>\n",
              "      <td>Hace ejercicio</td>\n",
              "      <td>Con reporte cardiovascular</td>\n",
              "    </tr>\n",
              "    <tr>\n",
              "      <th>2</th>\n",
              "      <td>18857</td>\n",
              "      <td>1</td>\n",
              "      <td>3</td>\n",
              "      <td>0</td>\n",
              "      <td>0</td>\n",
              "      <td>0</td>\n",
              "      <td>1</td>\n",
              "      <td>52</td>\n",
              "      <td>Female</td>\n",
              "      <td>No saludable</td>\n",
              "      <td>No fumador</td>\n",
              "      <td>No bebe</td>\n",
              "      <td>No hace ejercicio</td>\n",
              "      <td>Con reporte cardiovascular</td>\n",
              "    </tr>\n",
              "    <tr>\n",
              "      <th>3</th>\n",
              "      <td>17623</td>\n",
              "      <td>2</td>\n",
              "      <td>1</td>\n",
              "      <td>0</td>\n",
              "      <td>0</td>\n",
              "      <td>1</td>\n",
              "      <td>1</td>\n",
              "      <td>48</td>\n",
              "      <td>Male</td>\n",
              "      <td>Saludable</td>\n",
              "      <td>No fumador</td>\n",
              "      <td>No bebe</td>\n",
              "      <td>Hace ejercicio</td>\n",
              "      <td>Con reporte cardiovascular</td>\n",
              "    </tr>\n",
              "    <tr>\n",
              "      <th>4</th>\n",
              "      <td>17474</td>\n",
              "      <td>1</td>\n",
              "      <td>1</td>\n",
              "      <td>0</td>\n",
              "      <td>0</td>\n",
              "      <td>0</td>\n",
              "      <td>0</td>\n",
              "      <td>48</td>\n",
              "      <td>Female</td>\n",
              "      <td>Saludable</td>\n",
              "      <td>No fumador</td>\n",
              "      <td>No bebe</td>\n",
              "      <td>No hace ejercicio</td>\n",
              "      <td>Sin reporte cardiovascular</td>\n",
              "    </tr>\n",
              "    <tr>\n",
              "      <th>...</th>\n",
              "      <td>...</td>\n",
              "      <td>...</td>\n",
              "      <td>...</td>\n",
              "      <td>...</td>\n",
              "      <td>...</td>\n",
              "      <td>...</td>\n",
              "      <td>...</td>\n",
              "      <td>...</td>\n",
              "      <td>...</td>\n",
              "      <td>...</td>\n",
              "      <td>...</td>\n",
              "      <td>...</td>\n",
              "      <td>...</td>\n",
              "      <td>...</td>\n",
              "    </tr>\n",
              "    <tr>\n",
              "      <th>69995</th>\n",
              "      <td>19240</td>\n",
              "      <td>2</td>\n",
              "      <td>1</td>\n",
              "      <td>1</td>\n",
              "      <td>0</td>\n",
              "      <td>1</td>\n",
              "      <td>0</td>\n",
              "      <td>53</td>\n",
              "      <td>Male</td>\n",
              "      <td>Saludable</td>\n",
              "      <td>Fumador</td>\n",
              "      <td>No bebe</td>\n",
              "      <td>Hace ejercicio</td>\n",
              "      <td>Sin reporte cardiovascular</td>\n",
              "    </tr>\n",
              "    <tr>\n",
              "      <th>69996</th>\n",
              "      <td>22601</td>\n",
              "      <td>1</td>\n",
              "      <td>2</td>\n",
              "      <td>0</td>\n",
              "      <td>0</td>\n",
              "      <td>1</td>\n",
              "      <td>1</td>\n",
              "      <td>62</td>\n",
              "      <td>Female</td>\n",
              "      <td>Elevado</td>\n",
              "      <td>No fumador</td>\n",
              "      <td>No bebe</td>\n",
              "      <td>Hace ejercicio</td>\n",
              "      <td>Con reporte cardiovascular</td>\n",
              "    </tr>\n",
              "    <tr>\n",
              "      <th>69997</th>\n",
              "      <td>19066</td>\n",
              "      <td>2</td>\n",
              "      <td>3</td>\n",
              "      <td>0</td>\n",
              "      <td>1</td>\n",
              "      <td>0</td>\n",
              "      <td>1</td>\n",
              "      <td>52</td>\n",
              "      <td>Male</td>\n",
              "      <td>No saludable</td>\n",
              "      <td>No fumador</td>\n",
              "      <td>Bebe</td>\n",
              "      <td>No hace ejercicio</td>\n",
              "      <td>Con reporte cardiovascular</td>\n",
              "    </tr>\n",
              "    <tr>\n",
              "      <th>69998</th>\n",
              "      <td>22431</td>\n",
              "      <td>1</td>\n",
              "      <td>1</td>\n",
              "      <td>0</td>\n",
              "      <td>0</td>\n",
              "      <td>0</td>\n",
              "      <td>1</td>\n",
              "      <td>61</td>\n",
              "      <td>Female</td>\n",
              "      <td>Saludable</td>\n",
              "      <td>No fumador</td>\n",
              "      <td>No bebe</td>\n",
              "      <td>No hace ejercicio</td>\n",
              "      <td>Con reporte cardiovascular</td>\n",
              "    </tr>\n",
              "    <tr>\n",
              "      <th>69999</th>\n",
              "      <td>20540</td>\n",
              "      <td>1</td>\n",
              "      <td>2</td>\n",
              "      <td>0</td>\n",
              "      <td>0</td>\n",
              "      <td>1</td>\n",
              "      <td>0</td>\n",
              "      <td>56</td>\n",
              "      <td>Female</td>\n",
              "      <td>Elevado</td>\n",
              "      <td>No fumador</td>\n",
              "      <td>No bebe</td>\n",
              "      <td>Hace ejercicio</td>\n",
              "      <td>Sin reporte cardiovascular</td>\n",
              "    </tr>\n",
              "  </tbody>\n",
              "</table>\n",
              "<p>70000 rows × 14 columns</p>\n",
              "</div>\n",
              "      <button class=\"colab-df-convert\" onclick=\"convertToInteractive('df-a3add16d-d0af-4141-b5b5-ac61fc728346')\"\n",
              "              title=\"Convert this dataframe to an interactive table.\"\n",
              "              style=\"display:none;\">\n",
              "        \n",
              "  <svg xmlns=\"http://www.w3.org/2000/svg\" height=\"24px\"viewBox=\"0 0 24 24\"\n",
              "       width=\"24px\">\n",
              "    <path d=\"M0 0h24v24H0V0z\" fill=\"none\"/>\n",
              "    <path d=\"M18.56 5.44l.94 2.06.94-2.06 2.06-.94-2.06-.94-.94-2.06-.94 2.06-2.06.94zm-11 1L8.5 8.5l.94-2.06 2.06-.94-2.06-.94L8.5 2.5l-.94 2.06-2.06.94zm10 10l.94 2.06.94-2.06 2.06-.94-2.06-.94-.94-2.06-.94 2.06-2.06.94z\"/><path d=\"M17.41 7.96l-1.37-1.37c-.4-.4-.92-.59-1.43-.59-.52 0-1.04.2-1.43.59L10.3 9.45l-7.72 7.72c-.78.78-.78 2.05 0 2.83L4 21.41c.39.39.9.59 1.41.59.51 0 1.02-.2 1.41-.59l7.78-7.78 2.81-2.81c.8-.78.8-2.07 0-2.86zM5.41 20L4 18.59l7.72-7.72 1.47 1.35L5.41 20z\"/>\n",
              "  </svg>\n",
              "      </button>\n",
              "      \n",
              "  <style>\n",
              "    .colab-df-container {\n",
              "      display:flex;\n",
              "      flex-wrap:wrap;\n",
              "      gap: 12px;\n",
              "    }\n",
              "\n",
              "    .colab-df-convert {\n",
              "      background-color: #E8F0FE;\n",
              "      border: none;\n",
              "      border-radius: 50%;\n",
              "      cursor: pointer;\n",
              "      display: none;\n",
              "      fill: #1967D2;\n",
              "      height: 32px;\n",
              "      padding: 0 0 0 0;\n",
              "      width: 32px;\n",
              "    }\n",
              "\n",
              "    .colab-df-convert:hover {\n",
              "      background-color: #E2EBFA;\n",
              "      box-shadow: 0px 1px 2px rgba(60, 64, 67, 0.3), 0px 1px 3px 1px rgba(60, 64, 67, 0.15);\n",
              "      fill: #174EA6;\n",
              "    }\n",
              "\n",
              "    [theme=dark] .colab-df-convert {\n",
              "      background-color: #3B4455;\n",
              "      fill: #D2E3FC;\n",
              "    }\n",
              "\n",
              "    [theme=dark] .colab-df-convert:hover {\n",
              "      background-color: #434B5C;\n",
              "      box-shadow: 0px 1px 3px 1px rgba(0, 0, 0, 0.15);\n",
              "      filter: drop-shadow(0px 1px 2px rgba(0, 0, 0, 0.3));\n",
              "      fill: #FFFFFF;\n",
              "    }\n",
              "  </style>\n",
              "\n",
              "      <script>\n",
              "        const buttonEl =\n",
              "          document.querySelector('#df-a3add16d-d0af-4141-b5b5-ac61fc728346 button.colab-df-convert');\n",
              "        buttonEl.style.display =\n",
              "          google.colab.kernel.accessAllowed ? 'block' : 'none';\n",
              "\n",
              "        async function convertToInteractive(key) {\n",
              "          const element = document.querySelector('#df-a3add16d-d0af-4141-b5b5-ac61fc728346');\n",
              "          const dataTable =\n",
              "            await google.colab.kernel.invokeFunction('convertToInteractive',\n",
              "                                                     [key], {});\n",
              "          if (!dataTable) return;\n",
              "\n",
              "          const docLinkHtml = 'Like what you see? Visit the ' +\n",
              "            '<a target=\"_blank\" href=https://colab.research.google.com/notebooks/data_table.ipynb>data table notebook</a>'\n",
              "            + ' to learn more about interactive tables.';\n",
              "          element.innerHTML = '';\n",
              "          dataTable['output_type'] = 'display_data';\n",
              "          await google.colab.output.renderOutput(dataTable, element);\n",
              "          const docLink = document.createElement('div');\n",
              "          docLink.innerHTML = docLinkHtml;\n",
              "          element.appendChild(docLink);\n",
              "        }\n",
              "      </script>\n",
              "    </div>\n",
              "  </div>\n",
              "  "
            ],
            "text/plain": [
              "         age  gender  ...         active_cat                  cardio_cat\n",
              "0      18393       2  ...     Hace ejercicio  Sin reporte cardiovascular\n",
              "1      20228       1  ...     Hace ejercicio  Con reporte cardiovascular\n",
              "2      18857       1  ...  No hace ejercicio  Con reporte cardiovascular\n",
              "3      17623       2  ...     Hace ejercicio  Con reporte cardiovascular\n",
              "4      17474       1  ...  No hace ejercicio  Sin reporte cardiovascular\n",
              "...      ...     ...  ...                ...                         ...\n",
              "69995  19240       2  ...     Hace ejercicio  Sin reporte cardiovascular\n",
              "69996  22601       1  ...     Hace ejercicio  Con reporte cardiovascular\n",
              "69997  19066       2  ...  No hace ejercicio  Con reporte cardiovascular\n",
              "69998  22431       1  ...  No hace ejercicio  Con reporte cardiovascular\n",
              "69999  20540       1  ...     Hace ejercicio  Sin reporte cardiovascular\n",
              "\n",
              "[70000 rows x 14 columns]"
            ]
          },
          "metadata": {},
          "execution_count": 194
        }
      ]
    },
    {
      "cell_type": "markdown",
      "source": [
        "# Trabajamos nuestra variable predicha, la edad"
      ],
      "metadata": {
        "id": "CGfJ4emnEhnJ"
      }
    },
    {
      "cell_type": "code",
      "source": [
        "years_old = dataset['years_old'].describe()\n",
        "years_old"
      ],
      "metadata": {
        "colab": {
          "base_uri": "https://localhost:8080/"
        },
        "id": "cU3qJzlcEG75",
        "outputId": "99522ddd-a5c7-491a-d916-f15660be0bca"
      },
      "execution_count": 195,
      "outputs": [
        {
          "output_type": "execute_result",
          "data": {
            "text/plain": [
              "count    70000.000000\n",
              "mean        53.338686\n",
              "std          6.765294\n",
              "min         30.000000\n",
              "25%         48.000000\n",
              "50%         54.000000\n",
              "75%         58.000000\n",
              "max         65.000000\n",
              "Name: years_old, dtype: float64"
            ]
          },
          "metadata": {},
          "execution_count": 195
        }
      ]
    },
    {
      "cell_type": "code",
      "source": [
        "n = years_old[0]\n",
        "m_years_old = years_old[1]\n",
        "sd_years_old = years_old[2]"
      ],
      "metadata": {
        "id": "nwdGOFqrEWqe"
      },
      "execution_count": 196,
      "outputs": []
    },
    {
      "cell_type": "code",
      "source": [
        "edad = dataset['years_old']\n",
        "plt.hist(edad, bins=15, edgecolor='black')\n",
        "plt.xlabel('Edad')\n",
        "plt.xticks(np.arange(30, 70, step= 5))\n",
        "plt.ylabel('Frequencia')\n",
        "props = dict(boxstyle= 'round', facecolor='white', lw=0.5)\n",
        "plt.text(2,100,'Media:53.33''\\n''N:70000' '\\n' 'SD: 6.76', bbox=props)\n",
        "plt.title('Número de personas por edad''\\n')\n",
        "plt.axvline(53.33, linewidth=1, linestyle='solid', color = 'red')\n",
        "plt.axvline(46.57, linewidth=1, linestyle= 'dashed', color= 'green')\n",
        "plt.axvline(60.10, linewidth=1, linestyle= 'dashed', color= 'green')\n",
        "plt.legend(labels=['Media', 'SD ± Media'])\n",
        "plt.show()"
      ],
      "metadata": {
        "colab": {
          "base_uri": "https://localhost:8080/",
          "height": 0
        },
        "id": "RyNrFlhvM4Kd",
        "outputId": "18df28a8-aeeb-4fea-95df-77a247301f8f"
      },
      "execution_count": 197,
      "outputs": [
        {
          "output_type": "display_data",
          "data": {
            "image/png": "[encoded data removed]",
            "text/plain": [
              "<Figure size 432x288 with 1 Axes>"
            ]
          },
          "metadata": {
            "needs_background": "light"
          }
        }
      ]
    },
    {
      "cell_type": "markdown",
      "source": [
        "# Trabajamos nuestras variables predictoras"
      ],
      "metadata": {
        "id": "oTfDrPBLQl7p"
      }
    },
    {
      "cell_type": "markdown",
      "source": [
        "# Colesterol\n",
        "1: normal, saludable\n",
        "\n",
        "2: ligeramente por encima de lo normal, situación de posible riesgo\n",
        "\n",
        "3: muy por encima de lo normal, no saludable\n"
      ],
      "metadata": {
        "id": "JW8jm0dgQ3hC"
      }
    },
    {
      "cell_type": "code",
      "source": [
        "col_table = dataset.groupby(['cholesterol']).size()\n",
        "print(col_table)\n",
        "n=col_table.sum()\n",
        "col_table2 = (col_table/n)*100\n",
        "print(col_table2)\n",
        "n=col_table.sum()"
      ],
      "metadata": {
        "colab": {
          "base_uri": "https://localhost:8080/"
        },
        "id": "8YszFRnDQsDi",
        "outputId": "375dd8ba-99fb-4333-a25c-810c58b46efa"
      },
      "execution_count": 198,
      "outputs": [
        {
          "output_type": "stream",
          "name": "stdout",
          "text": [
            "cholesterol\n",
            "1    52385\n",
            "2     9549\n",
            "3     8066\n",
            "dtype: int64\n",
            "cholesterol\n",
            "1    74.835714\n",
            "2    13.641429\n",
            "3    11.522857\n",
            "dtype: float64\n"
          ]
        }
      ]
    },
    {
      "cell_type": "code",
      "source": [
        "bar_list = ['Saludable', 'Elevado','No saludable']\n",
        "plt.bar(bar_list, col_table2, edgecolor='black')\n",
        "plt.title(\"Porcentaje de personas según sus niveles de colesterol\")\n",
        "plt.ylabel('Porcentaje')\n",
        "plt.xlabel('Nivel de colesterol')\n",
        "props = dict(boxstyle='round', facecolor='white',lw=0.5)\n",
        "textstr = '$\\mathrm{n}=%.0f$'%(n)\n",
        "plt.text (2,70, textstr , bbox=props)\n",
        "plt.show()"
      ],
      "metadata": {
        "colab": {
          "base_uri": "https://localhost:8080/",
          "height": 295
        },
        "id": "KqDpE2dG92U9",
        "outputId": "69f927eb-c260-49ec-a845-67bf1f0dfa6d"
      },
      "execution_count": 199,
      "outputs": [
        {
          "output_type": "display_data",
          "data": {
            "image/png": "[encoded data removed]",
            "text/plain": [
              "<Figure size 432x288 with 1 Axes>"
            ]
          },
          "metadata": {
            "needs_background": "light"
          }
        }
      ]
    },
    {
      "cell_type": "code",
      "source": [
        "dataset.groupby('chol_cat').years_old.mean()"
      ],
      "metadata": {
        "colab": {
          "base_uri": "https://localhost:8080/"
        },
        "id": "GmC0WcDUFxFY",
        "outputId": "85a2c6d8-7c59-4718-ac3e-8fa462656b22"
      },
      "execution_count": 200,
      "outputs": [
        {
          "output_type": "execute_result",
          "data": {
            "text/plain": [
              "chol_cat\n",
              "Elevado         53.712326\n",
              "No saludable    56.200471\n",
              "Saludable       52.829932\n",
              "Name: years_old, dtype: float64"
            ]
          },
          "metadata": {},
          "execution_count": 200
        }
      ]
    },
    {
      "cell_type": "code",
      "source": [
        "#Descriptive comparison\n",
        "dataset.groupby('chol_cat').years_old.mean()\n",
        "#Statistical comparison\n",
        "col_sana=dataset.loc[dataset.chol_cat=='Saludable', \"years_old\"]\n",
        "col_riesgo=dataset.loc[dataset.chol_cat=='Elevado', \"years_old\"]\n",
        "col_no_sana=dataset.loc[dataset.chol_cat=='No saludable', \"years_old\"]\n",
        "\n",
        "stats.f_oneway(col_sana, col_riesgo, col_no_sana)"
      ],
      "metadata": {
        "colab": {
          "base_uri": "https://localhost:8080/"
        },
        "id": "DtejreNXA-EA",
        "outputId": "743a81f3-0c94-4654-cbb3-9aef99e6e8c7"
      },
      "execution_count": 201,
      "outputs": [
        {
          "output_type": "execute_result",
          "data": {
            "text/plain": [
              "F_onewayResult(statistic=907.2369830978461, pvalue=0.0)"
            ]
          },
          "metadata": {},
          "execution_count": 201
        }
      ]
    },
    {
      "cell_type": "code",
      "source": [
        "plt.figure(figsize=(6,6))\n",
        "ax = sns.pointplot(x=\"chol_cat\", y=\"years_old\", data=dataset,capsize=0.05, ci=95, join=0, order=['Saludable', 'Elevado', 'No saludable'])\n",
        "ax.set_ylabel('Edad')\n",
        "plt.yticks(np.arange(52, 58, step=1))\n",
        "plt.axhline(y=dataset['years_old'].mean(),linewidth=1,linestyle= 'dashed',color=\"green\")\n",
        "props = dict(boxstyle='round', facecolor='white', lw=0.5)\n",
        "plt.text(-0.45,56.4,'Mean:53.33''\\n''N:70000''\\n' 'Pval.:0.00', bbox=props)\n",
        "plt.xlabel('Nivel de colesterol')\n",
        "plt.title('Media de edad según el el nivel de colesterol.''\\n')\n",
        "plt.show()"
      ],
      "metadata": {
        "colab": {
          "base_uri": "https://localhost:8080/",
          "height": 419
        },
        "id": "m5xHmEddkFhX",
        "outputId": "bb3c9a1f-dd98-46bb-b44c-ef43058b836d"
      },
      "execution_count": 202,
      "outputs": [
        {
          "output_type": "display_data",
          "data": {
            "image/png": "[encoded data removed]",
            "text/plain": [
              "<Figure size 432x432 with 1 Axes>"
            ]
          },
          "metadata": {
            "needs_background": "light"
          }
        }
      ]
    },
    {
      "cell_type": "markdown",
      "source": [
        "Como el p valor es menor de 0.05, rechazamos la hipótesis nula.\n",
        "\n",
        "La edad afecta significativamente a una persona en base a su situación con el colesterol."
      ],
      "metadata": {
        "id": "88h6MEO-fr9J"
      }
    },
    {
      "cell_type": "markdown",
      "source": [
        "# Activo y no activo"
      ],
      "metadata": {
        "id": "WyDbqBEUHCO3"
      }
    },
    {
      "cell_type": "code",
      "source": [
        "acti_table = dataset.groupby(['active']).size()\n",
        "print(acti_table)\n",
        "n=acti_table.sum()\n",
        "acti_table2 = (acti_table/n)*100\n",
        "print(acti_table2)\n",
        "n=acti_table.sum()"
      ],
      "metadata": {
        "colab": {
          "base_uri": "https://localhost:8080/"
        },
        "id": "Ubb3IlXnHRuQ",
        "outputId": "4c79c939-246d-4ad6-c00e-6792d59681d2"
      },
      "execution_count": 203,
      "outputs": [
        {
          "output_type": "stream",
          "name": "stdout",
          "text": [
            "active\n",
            "0    13739\n",
            "1    56261\n",
            "dtype: int64\n",
            "active\n",
            "0    19.627143\n",
            "1    80.372857\n",
            "dtype: float64\n"
          ]
        }
      ]
    },
    {
      "cell_type": "code",
      "source": [
        "bar_list = ['No activo', 'Activo']\n",
        "plt.bar(bar_list, acti_table2, edgecolor='black')\n",
        "plt.title(\"Porcentaje de personas según su actividad física\")\n",
        "plt.ylabel('Porcentaje')\n",
        "plt.xlabel('Actividad física')\n",
        "props = dict(boxstyle='round', facecolor='white',lw=0.5)\n",
        "textstr = '$\\mathrm{n}=%.0f$'%(n)\n",
        "plt.text (0,70, textstr , bbox=props)\n",
        "plt.show()"
      ],
      "metadata": {
        "colab": {
          "base_uri": "https://localhost:8080/",
          "height": 0
        },
        "id": "bvcT2yM0I_3n",
        "outputId": "528edd55-f0ff-4aa7-ee09-165db96edf53"
      },
      "execution_count": 204,
      "outputs": [
        {
          "output_type": "display_data",
          "data": {
            "image/png": "[encoded data removed]",
            "text/plain": [
              "<Figure size 432x288 with 1 Axes>"
            ]
          },
          "metadata": {
            "needs_background": "light"
          }
        }
      ]
    },
    {
      "cell_type": "code",
      "source": [
        "#Descriptive comparison\n",
        "dataset.groupby('active').years_old.mean()"
      ],
      "metadata": {
        "colab": {
          "base_uri": "https://localhost:8080/"
        },
        "id": "Cr0e1tUsLXjg",
        "outputId": "06ee3554-9a2e-49b1-fe20-704458468737"
      },
      "execution_count": 205,
      "outputs": [
        {
          "output_type": "execute_result",
          "data": {
            "text/plain": [
              "active\n",
              "0    53.473106\n",
              "1    53.305860\n",
              "Name: years_old, dtype: float64"
            ]
          },
          "metadata": {},
          "execution_count": 205
        }
      ]
    },
    {
      "cell_type": "code",
      "source": [
        "#Statistical comparison\n",
        "no_activos=dataset.loc[dataset.active_cat=='Hace ejercicio', \"years_old\"]\n",
        "activos=dataset.loc[dataset.active_cat=='No hace ejercicio', \"years_old\"]\n",
        "\n",
        "res = stats.f_oneway(no_activos, activos)\n",
        "print(res)"
      ],
      "metadata": {
        "colab": {
          "base_uri": "https://localhost:8080/"
        },
        "id": "5EipVCHpJw-A",
        "outputId": "5fabfd1c-7700-422f-b55f-4b0eec512773"
      },
      "execution_count": 206,
      "outputs": [
        {
          "output_type": "stream",
          "name": "stdout",
          "text": [
            "F_onewayResult(statistic=6.748948182092627, pvalue=0.009382260765441006)\n"
          ]
        }
      ]
    },
    {
      "cell_type": "markdown",
      "source": [
        "Como el p valor es menor de 0.05, rechazamos la hipótesis nula.\n",
        "\n",
        "La edad afecta significativamente a una persona en base a su situación de actividad física."
      ],
      "metadata": {
        "id": "uJsdta24fbia"
      }
    },
    {
      "cell_type": "code",
      "source": [
        "plt.figure(figsize=(6,6))\n",
        "ax = sns.pointplot(x=\"active_cat\", y=\"years_old\", data=dataset,capsize=0.05, ci=95, join=0, order=['Hace ejercicio', 'No hace ejercicio'])\n",
        "ax.set_ylabel('Edad')\n",
        "plt.yticks(np.arange(52, 58, step=1))\n",
        "plt.axhline(y=dataset['years_old'].mean(),linewidth=1,linestyle= 'dashed',color=\"green\")\n",
        "props = dict(boxstyle='round', facecolor='white', lw=0.5)\n",
        "plt.text(-0.45,56.4,'Mean:53.33''\\n''N:70000''\\n' 'Pval.:0.01', bbox=props)\n",
        "plt.xlabel('Actividad física')\n",
        "plt.title('Media de edad según si hace o no ejercicio.''\\n')\n",
        "plt.show()"
      ],
      "metadata": {
        "colab": {
          "base_uri": "https://localhost:8080/",
          "height": 0
        },
        "id": "OhFGG24NnHRK",
        "outputId": "d1deefc9-b5da-4698-c3fa-684dc8b53a3a"
      },
      "execution_count": 207,
      "outputs": [
        {
          "output_type": "display_data",
          "data": {
            "image/png": "[encoded data removed]",
            "text/plain": [
              "<Figure size 432x432 with 1 Axes>"
            ]
          },
          "metadata": {
            "needs_background": "light"
          }
        }
      ]
    },
    {
      "cell_type": "markdown",
      "source": [
        "# Problemas cardíacos"
      ],
      "metadata": {
        "id": "PJyMj62QLyiB"
      }
    },
    {
      "cell_type": "code",
      "source": [
        "card_table = dataset.groupby(['cardio_cat']).size()\n",
        "print(card_table)\n",
        "n=card_table.sum()\n",
        "card_table2 = (card_table/n)*100\n",
        "print(card_table2)\n",
        "n=card_table.sum()\n",
        "pd.crosstab(dataset['cardio_cat'],dataset['gender_cat'],normalize=True)"
      ],
      "metadata": {
        "colab": {
          "base_uri": "https://localhost:8080/",
          "height": 0
        },
        "id": "tfca4AFbL3sl",
        "outputId": "f2adadb6-276d-41a8-d14a-369dfdab70e6"
      },
      "execution_count": 208,
      "outputs": [
        {
          "output_type": "stream",
          "name": "stdout",
          "text": [
            "cardio_cat\n",
            "Con reporte cardiovascular    34979\n",
            "Sin reporte cardiovascular    35021\n",
            "dtype: int64\n",
            "cardio_cat\n",
            "Con reporte cardiovascular    49.97\n",
            "Sin reporte cardiovascular    50.03\n",
            "dtype: float64\n"
          ]
        },
        {
          "output_type": "execute_result",
          "data": {
            "text/html": [
              "\n",
              "  <div id=\"df-9784f771-6411-4f06-8202-321373cd27ca\">\n",
              "    <div class=\"colab-df-container\">\n",
              "      <div>\n",
              "<style scoped>\n",
              "    .dataframe tbody tr th:only-of-type {\n",
              "        vertical-align: middle;\n",
              "    }\n",
              "\n",
              "    .dataframe tbody tr th {\n",
              "        vertical-align: top;\n",
              "    }\n",
              "\n",
              "    .dataframe thead th {\n",
              "        text-align: right;\n",
              "    }\n",
              "</style>\n",
              "<table border=\"1\" class=\"dataframe\">\n",
              "  <thead>\n",
              "    <tr style=\"text-align: right;\">\n",
              "      <th>gender_cat</th>\n",
              "      <th>Female</th>\n",
              "      <th>Male</th>\n",
              "    </tr>\n",
              "    <tr>\n",
              "      <th>cardio_cat</th>\n",
              "      <th></th>\n",
              "      <th></th>\n",
              "    </tr>\n",
              "  </thead>\n",
              "  <tbody>\n",
              "    <tr>\n",
              "      <th>Con reporte cardiovascular</th>\n",
              "      <td>0.323086</td>\n",
              "      <td>0.176614</td>\n",
              "    </tr>\n",
              "    <tr>\n",
              "      <th>Sin reporte cardiovascular</th>\n",
              "      <td>0.327343</td>\n",
              "      <td>0.172957</td>\n",
              "    </tr>\n",
              "  </tbody>\n",
              "</table>\n",
              "</div>\n",
              "      <button class=\"colab-df-convert\" onclick=\"convertToInteractive('df-9784f771-6411-4f06-8202-321373cd27ca')\"\n",
              "              title=\"Convert this dataframe to an interactive table.\"\n",
              "              style=\"display:none;\">\n",
              "        \n",
              "  <svg xmlns=\"http://www.w3.org/2000/svg\" height=\"24px\"viewBox=\"0 0 24 24\"\n",
              "       width=\"24px\">\n",
              "    <path d=\"M0 0h24v24H0V0z\" fill=\"none\"/>\n",
              "    <path d=\"M18.56 5.44l.94 2.06.94-2.06 2.06-.94-2.06-.94-.94-2.06-.94 2.06-2.06.94zm-11 1L8.5 8.5l.94-2.06 2.06-.94-2.06-.94L8.5 2.5l-.94 2.06-2.06.94zm10 10l.94 2.06.94-2.06 2.06-.94-2.06-.94-.94-2.06-.94 2.06-2.06.94z\"/><path d=\"M17.41 7.96l-1.37-1.37c-.4-.4-.92-.59-1.43-.59-.52 0-1.04.2-1.43.59L10.3 9.45l-7.72 7.72c-.78.78-.78 2.05 0 2.83L4 21.41c.39.39.9.59 1.41.59.51 0 1.02-.2 1.41-.59l7.78-7.78 2.81-2.81c.8-.78.8-2.07 0-2.86zM5.41 20L4 18.59l7.72-7.72 1.47 1.35L5.41 20z\"/>\n",
              "  </svg>\n",
              "      </button>\n",
              "      \n",
              "  <style>\n",
              "    .colab-df-container {\n",
              "      display:flex;\n",
              "      flex-wrap:wrap;\n",
              "      gap: 12px;\n",
              "    }\n",
              "\n",
              "    .colab-df-convert {\n",
              "      background-color: #E8F0FE;\n",
              "      border: none;\n",
              "      border-radius: 50%;\n",
              "      cursor: pointer;\n",
              "      display: none;\n",
              "      fill: #1967D2;\n",
              "      height: 32px;\n",
              "      padding: 0 0 0 0;\n",
              "      width: 32px;\n",
              "    }\n",
              "\n",
              "    .colab-df-convert:hover {\n",
              "      background-color: #E2EBFA;\n",
              "      box-shadow: 0px 1px 2px rgba(60, 64, 67, 0.3), 0px 1px 3px 1px rgba(60, 64, 67, 0.15);\n",
              "      fill: #174EA6;\n",
              "    }\n",
              "\n",
              "    [theme=dark] .colab-df-convert {\n",
              "      background-color: #3B4455;\n",
              "      fill: #D2E3FC;\n",
              "    }\n",
              "\n",
              "    [theme=dark] .colab-df-convert:hover {\n",
              "      background-color: #434B5C;\n",
              "      box-shadow: 0px 1px 3px 1px rgba(0, 0, 0, 0.15);\n",
              "      filter: drop-shadow(0px 1px 2px rgba(0, 0, 0, 0.3));\n",
              "      fill: #FFFFFF;\n",
              "    }\n",
              "  </style>\n",
              "\n",
              "      <script>\n",
              "        const buttonEl =\n",
              "          document.querySelector('#df-9784f771-6411-4f06-8202-321373cd27ca button.colab-df-convert');\n",
              "        buttonEl.style.display =\n",
              "          google.colab.kernel.accessAllowed ? 'block' : 'none';\n",
              "\n",
              "        async function convertToInteractive(key) {\n",
              "          const element = document.querySelector('#df-9784f771-6411-4f06-8202-321373cd27ca');\n",
              "          const dataTable =\n",
              "            await google.colab.kernel.invokeFunction('convertToInteractive',\n",
              "                                                     [key], {});\n",
              "          if (!dataTable) return;\n",
              "\n",
              "          const docLinkHtml = 'Like what you see? Visit the ' +\n",
              "            '<a target=\"_blank\" href=https://colab.research.google.com/notebooks/data_table.ipynb>data table notebook</a>'\n",
              "            + ' to learn more about interactive tables.';\n",
              "          element.innerHTML = '';\n",
              "          dataTable['output_type'] = 'display_data';\n",
              "          await google.colab.output.renderOutput(dataTable, element);\n",
              "          const docLink = document.createElement('div');\n",
              "          docLink.innerHTML = docLinkHtml;\n",
              "          element.appendChild(docLink);\n",
              "        }\n",
              "      </script>\n",
              "    </div>\n",
              "  </div>\n",
              "  "
            ],
            "text/plain": [
              "gender_cat                    Female      Male\n",
              "cardio_cat                                    \n",
              "Con reporte cardiovascular  0.323086  0.176614\n",
              "Sin reporte cardiovascular  0.327343  0.172957"
            ]
          },
          "metadata": {},
          "execution_count": 208
        }
      ]
    },
    {
      "cell_type": "code",
      "source": [
        "bar_list = ['No problemas cardíacos', 'Con problemas cardíacos']\n",
        "plt.bar(bar_list, card_table2, edgecolor='black')\n",
        "plt.title(\"Porcentaje de personas con reportes de problemas cardíacos\")\n",
        "plt.ylabel('Porcentaje')\n",
        "plt.xlabel('Reportes cardíacos')\n",
        "props = dict(boxstyle='round', facecolor='white',lw=0.5)\n",
        "textstr = '$\\mathrm{n}=%.0f$'%(n)\n",
        "plt.text (-0.35,45, textstr , bbox=props)\n",
        "plt.show()"
      ],
      "metadata": {
        "colab": {
          "base_uri": "https://localhost:8080/",
          "height": 0
        },
        "id": "SBoZGnqCMlX2",
        "outputId": "17b95df3-eb08-41bb-e618-49f9b4930fae"
      },
      "execution_count": 209,
      "outputs": [
        {
          "output_type": "display_data",
          "data": {
            "image/png": "[encoded data removed]",
            "text/plain": [
              "<Figure size 432x288 with 1 Axes>"
            ]
          },
          "metadata": {
            "needs_background": "light"
          }
        }
      ]
    },
    {
      "cell_type": "code",
      "source": [
        "#Descriptive comparison\n",
        "dataset.groupby('cardio_cat').years_old.mean()"
      ],
      "metadata": {
        "colab": {
          "base_uri": "https://localhost:8080/"
        },
        "id": "TWU3Zfc3M52m",
        "outputId": "4bf2fdef-59a2-409d-b147-9cb19b294c0b"
      },
      "execution_count": 210,
      "outputs": [
        {
          "output_type": "execute_result",
          "data": {
            "text/plain": [
              "cardio_cat\n",
              "Con reporte cardiovascular    54.948083\n",
              "Sin reporte cardiovascular    51.731218\n",
              "Name: years_old, dtype: float64"
            ]
          },
          "metadata": {},
          "execution_count": 210
        }
      ]
    },
    {
      "cell_type": "code",
      "source": [
        "#Statistical comparison\n",
        "no_cardio=dataset.loc[dataset.cardio_cat=='Sin reporte cardiovascular', \"years_old\"]\n",
        "cardio=dataset.loc[dataset.cardio_cat=='Con reporte cardiovascular', \"years_old\"]\n",
        "\n",
        "res = stats.f_oneway(no_cardio, cardio)\n",
        "print(res)"
      ],
      "metadata": {
        "colab": {
          "base_uri": "https://localhost:8080/"
        },
        "id": "gdqq-ztENAMR",
        "outputId": "8736ab4b-689e-4ce9-ce0f-fcb18c005da4"
      },
      "execution_count": 211,
      "outputs": [
        {
          "output_type": "stream",
          "name": "stdout",
          "text": [
            "F_onewayResult(statistic=4193.661785519235, pvalue=0.0)\n"
          ]
        }
      ]
    },
    {
      "cell_type": "code",
      "source": [
        "plt.figure(figsize=(6,6))\n",
        "ax = sns.pointplot(x=\"cardio_cat\", y=\"years_old\", data=dataset,capsize=0.05, ci=95, join=0, order=['Sin reporte cardiovascular', 'Con reporte cardiovascular'])\n",
        "ax.set_ylabel('Edad')\n",
        "plt.yticks(np.arange(52, 58, step=1))\n",
        "plt.axhline(y=dataset['years_old'].mean(),linewidth=1,linestyle= 'dashed',color=\"green\")\n",
        "props = dict(boxstyle='round', facecolor='white', lw=0.5)\n",
        "plt.text(-0.45,56.4,'Mean:53.33''\\n''N:70000''\\n' 'Pval.:0.0', bbox=props)\n",
        "plt.xlabel('Reportes')\n",
        "plt.title('Media de edad según reportes cardíacos.''\\n')\n",
        "plt.show()"
      ],
      "metadata": {
        "colab": {
          "base_uri": "https://localhost:8080/",
          "height": 0
        },
        "id": "aQ3r95RNsOgh",
        "outputId": "5649b0b7-0d59-48ba-eec8-389f318fc428"
      },
      "execution_count": 212,
      "outputs": [
        {
          "output_type": "display_data",
          "data": {
            "image/png": "[encoded data removed]",
            "text/plain": [
              "<Figure size 432x432 with 1 Axes>"
            ]
          },
          "metadata": {
            "needs_background": "light"
          }
        }
      ]
    },
    {
      "cell_type": "markdown",
      "source": [
        "# Ahora dejamos de tomar como predicha la edad para comparar por sexo\n",
        "Lo analizamos para poder justificar que las mujeres pagan menos por un seguro de vida\n",
        "\n",
        "1.   ¿Quién consume más alcohol?\n",
        "2.   ¿Quién fuma más?\n",
        "\n"
      ],
      "metadata": {
        "id": "2NoSoBpXDuFh"
      }
    },
    {
      "cell_type": "markdown",
      "source": [
        "Primero veamos como efectivamente las mujeres tienen más esperanza de vida:\n",
        "\n",
        "[Esperanza de vida general y por sexo en España](https://datosmacro.expansion.com/demografia/esperanza-vida/espana)\n",
        "\n",
        "En el enlace mencionado observamos como la esperanza de vida en España es de 82,33 años(2020).\n",
        "\n",
        "Para hombres es de 79,59 y en mujeres es de 85,06 años."
      ],
      "metadata": {
        "id": "e25VWbLN5ADx"
      }
    },
    {
      "cell_type": "markdown",
      "source": [
        "# Consumo del alcohol, ¿quien bebe más?"
      ],
      "metadata": {
        "id": "rxC1z74uwZEy"
      }
    },
    {
      "cell_type": "markdown",
      "source": [
        "Empecemos por observar cuantos beben:\n",
        "\n"
      ],
      "metadata": {
        "id": "wzgdXkkx5-OG"
      }
    },
    {
      "cell_type": "code",
      "source": [
        "alco_table = dataset.groupby(['alco_cat']).size()\n",
        "n=alco_table.sum()\n",
        "alco_table2 = (alco_table/n)*100\n",
        "print(alco_table2)\n",
        "bar_list = ['No bebe', 'Bebe']\n",
        "plt.bar(bar_list, alco_table2,edgecolor='black')\n",
        "plt.ylabel('Percentage')\n",
        "plt.title('Porcentaje de personas que no beben y beben')\n",
        "plt.show()"
      ],
      "metadata": {
        "id": "HKr6V7rjE8fe",
        "colab": {
          "base_uri": "https://localhost:8080/",
          "height": 0
        },
        "outputId": "54522a25-ba8e-4eca-9435-ba32a6af60f3"
      },
      "execution_count": 213,
      "outputs": [
        {
          "output_type": "stream",
          "name": "stdout",
          "text": [
            "alco_cat\n",
            "Bebe        5.377143\n",
            "No bebe    94.622857\n",
            "dtype: float64\n"
          ]
        },
        {
          "output_type": "display_data",
          "data": {
            "image/png": "[encoded data removed]",
            "text/plain": [
              "<Figure size 432x288 with 1 Axes>"
            ]
          },
          "metadata": {
            "needs_background": "light"
          }
        }
      ]
    },
    {
      "cell_type": "code",
      "source": [
        "gender_table = dataset.groupby(['gender_cat']).size()\n",
        "n=gender_table.sum()\n",
        "gender_table2 = (gender_table/n)*100\n",
        "print(gender_table2)\n",
        "bar_list = ['Female', 'Male']\n",
        "plt.bar(bar_list, alco_table2,edgecolor='black')\n",
        "plt.ylabel('Percentage')\n",
        "plt.title('Porcentaje de personas por sexo')\n",
        "plt.show()"
      ],
      "metadata": {
        "colab": {
          "base_uri": "https://localhost:8080/",
          "height": 0
        },
        "id": "4BuD1adhogTy",
        "outputId": "7fbd8abc-71f2-49a8-f134-2e397f4a3cb7"
      },
      "execution_count": 214,
      "outputs": [
        {
          "output_type": "stream",
          "name": "stdout",
          "text": [
            "gender_cat\n",
            "Female    65.042857\n",
            "Male      34.957143\n",
            "dtype: float64\n"
          ]
        },
        {
          "output_type": "display_data",
          "data": {
            "image/png": "[encoded data removed]",
            "text/plain": [
              "<Figure size 432x288 with 1 Axes>"
            ]
          },
          "metadata": {
            "needs_background": "light"
          }
        }
      ]
    },
    {
      "cell_type": "code",
      "source": [
        "#Crostabulation\n",
        "pd.crosstab(dataset.alco_cat, dataset.gender_cat, margins=True) #1º la VD target, 2º La predicción\n",
        "pd.crosstab(dataset.alco_cat, dataset.gender_cat,normalize='columns', margins=True)*100 #Para que nos de en porcentajes\n",
        "my_ct = pd.crosstab(dataset.alco_cat, dataset.gender_cat,normalize='columns', margins=True)*100\n",
        "my_ct=round(my_ct,1)\n",
        "print(my_ct)\n",
        "stats.chi2_contingency(ct)\n",
        "#Ploting the cross tabulation\n",
        "my_ct2=my_ct.transpose() #Primero hay que treansponer la tabla para poder representarla graficamente\n",
        "my_ct2.plot(kind=\"bar\", edgecolor = \"black\", colormap='RdYlGn')\n",
        "props = dict(boxstyle='round', facecolor='white', lw=0.5)\n",
        "plt.xlabel('Sexo')\n",
        "plt.title('Porcentaje de personas que beben y no beben por sexo.''\\n')\n",
        "plt.ylabel('Porcentaje')\n",
        "plt.legend(['Bebe','No bebe'])\n",
        "plt.ylim(0,100)\n",
        "plt.xticks(rotation='horizontal')\n",
        "plt.show()\n",
        "plt.savefig('Gender_Alcohol.svg')"
      ],
      "metadata": {
        "colab": {
          "base_uri": "https://localhost:8080/",
          "height": 0
        },
        "id": "bnmDhaOGniZ4",
        "outputId": "9689e254-1bf0-4678-b966-c4030160eba7"
      },
      "execution_count": 215,
      "outputs": [
        {
          "output_type": "stream",
          "name": "stdout",
          "text": [
            "gender_cat  Female  Male   All\n",
            "alco_cat                      \n",
            "Bebe           2.5  10.6   5.4\n",
            "No bebe       97.5  89.4  94.6\n"
          ]
        },
        {
          "output_type": "display_data",
          "data": {
            "image/png": "[encoded data removed]",
            "text/plain": [
              "<Figure size 432x288 with 1 Axes>"
            ]
          },
          "metadata": {
            "needs_background": "light"
          }
        },
        {
          "output_type": "display_data",
          "data": {
            "text/plain": [
              "<Figure size 432x288 with 0 Axes>"
            ]
          },
          "metadata": {}
        }
      ]
    },
    {
      "cell_type": "markdown",
      "source": [
        "# Consumo del alcohol, ¿quien fuma más?"
      ],
      "metadata": {
        "id": "6kDrG-wytWNl"
      }
    },
    {
      "cell_type": "markdown",
      "source": [
        "Empecemos por observar cuantos fuman:"
      ],
      "metadata": {
        "id": "Q_BY4_qmtf5c"
      }
    },
    {
      "cell_type": "code",
      "source": [
        "smoke_table = dataset.groupby(['smoke_cat']).size()\n",
        "n=smoke_table.sum()\n",
        "smoke_table2 = (smoke_table/n)*100\n",
        "print(smoke_table2)\n",
        "bar_list = ['No fuma','Fuma']\n",
        "plt.bar(bar_list, smoke_table2,edgecolor='black')\n",
        "plt.ylabel('Porcentaje')\n",
        "plt.title('Porcentaje de personas que no fuman y fuman')\n",
        "plt.show()"
      ],
      "metadata": {
        "colab": {
          "base_uri": "https://localhost:8080/",
          "height": 350
        },
        "id": "IOZdvxbltjue",
        "outputId": "ea91f733-7c58-47ca-aea2-fcede7e638ea"
      },
      "execution_count": 216,
      "outputs": [
        {
          "output_type": "stream",
          "name": "stdout",
          "text": [
            "smoke_cat\n",
            "Fumador        8.812857\n",
            "No fumador    91.187143\n",
            "dtype: float64\n"
          ]
        },
        {
          "output_type": "display_data",
          "data": {
            "image/png": "[encoded data removed]",
            "text/plain": [
              "<Figure size 432x288 with 1 Axes>"
            ]
          },
          "metadata": {
            "needs_background": "light"
          }
        }
      ]
    },
    {
      "cell_type": "code",
      "source": [
        "#Crostabulation\n",
        "pd.crosstab(dataset.smoke_cat, dataset.gender_cat, margins=True) #1º la VD target, 2º La predicción\n",
        "pd.crosstab(dataset.smoke_cat, dataset.gender_cat,normalize='columns', margins=True)*100 #Para que nos de en porcentajes\n",
        "my_ct = pd.crosstab(dataset.smoke_cat, dataset.gender_cat,normalize='columns', margins=True)*100\n",
        "my_ct=round(my_ct,1)\n",
        "print(my_ct)\n",
        "stats.chi2_contingency(ct)\n",
        "#Ploting the cross tabulation\n",
        "my_ct2=my_ct.transpose() #Primero hay que treansponer la tabla para poder representarla graficamente\n",
        "my_ct2.plot(kind=\"bar\", edgecolor = \"black\", colormap='RdYlGn')\n",
        "props = dict(boxstyle='round', facecolor='white', lw=0.5)\n",
        "plt.xlabel('Sexo')\n",
        "plt.title('Porcentaje de personas que fuman y no fuman por sexo.''\\n')\n",
        "plt.ylabel('Porcentaje')\n",
        "plt.legend(['Fuma','No fuma'])\n",
        "plt.ylim(0,100)\n",
        "plt.xticks(rotation='horizontal')\n",
        "plt.show()\n",
        "plt.savefig('Gender_Alcohol.svg')"
      ],
      "metadata": {
        "colab": {
          "base_uri": "https://localhost:8080/",
          "height": 397
        },
        "id": "NoUoYOSguai4",
        "outputId": "6f371b3f-11cc-453c-b72d-c8783a43fc72"
      },
      "execution_count": 217,
      "outputs": [
        {
          "output_type": "stream",
          "name": "stdout",
          "text": [
            "gender_cat  Female  Male   All\n",
            "smoke_cat                     \n",
            "Fumador        1.8  21.9   8.8\n",
            "No fumador    98.2  78.1  91.2\n"
          ]
        },
        {
          "output_type": "display_data",
          "data": {
            "image/png": "[encoded data removed]",
            "text/plain": [
              "<Figure size 432x288 with 1 Axes>"
            ]
          },
          "metadata": {
            "needs_background": "light"
          }
        },
        {
          "output_type": "display_data",
          "data": {
            "text/plain": [
              "<Figure size 432x288 with 0 Axes>"
            ]
          },
          "metadata": {}
        }
      ]
    }
  ]
}