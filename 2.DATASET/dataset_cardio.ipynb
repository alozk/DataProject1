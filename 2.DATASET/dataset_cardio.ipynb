{
  "nbformat": 4,
  "nbformat_minor": 0,
  "metadata": {
    "colab": {
      "name": "dataset.cardio.ipynb",
      "provenance": [],
      "collapsed_sections": []
    },
    "kernelspec": {
      "name": "python3",
      "display_name": "Python 3"
    },
    "language_info": {
      "name": "python"
    }
  },
  "cells": [
    {
      "cell_type": "markdown",
      "source": [
        "URL DEL DATASET: [EDA cardiovascular data](https://www.kaggle.com/sulianova/eda-cardiovascular-data)"
      ],
      "metadata": {
        "id": "1r0UmO07NPYL"
      }
    },
    {
      "cell_type": "markdown",
      "source": [
        "# Importamos librerías necesarias\n"
      ],
      "metadata": {
        "id": "ghiE3yFmEoK8"
      }
    },
    {
      "cell_type": "code",
      "execution_count": 1,
      "metadata": {
        "id": "bC-2SEjt3ofg",
        "colab": {
          "base_uri": "https://localhost:8080/"
        },
        "outputId": "82b38196-d474-4725-a7da-2c8bb2e5fe49"
      },
      "outputs": [
        {
          "output_type": "stream",
          "name": "stderr",
          "text": [
            "/usr/local/lib/python3.7/dist-packages/statsmodels/tools/_testing.py:19: FutureWarning: pandas.util.testing is deprecated. Use the functions in the public API at pandas.testing instead.\n",
            "  import pandas.util.testing as tm\n"
          ]
        }
      ],
      "source": [
        "import os\n",
        "import numpy as np\n",
        "import pandas as pd\n",
        "from pandas.api.types import CategoricalDtype\n",
        "import matplotlib.pyplot as plt\n",
        "import seaborn as sns\n",
        "import scipy.stats as stats  \n",
        "from scipy.stats.stats import pearsonr\n",
        "from statsmodels.formula.api import ols\n",
        "import math\n",
        "\n",
        "from google.colab import drive"
      ]
    },
    {
      "cell_type": "markdown",
      "source": [
        "# Preparamos nuestro dataset"
      ],
      "metadata": {
        "id": "kCdUCqv7EyRP"
      }
    },
    {
      "cell_type": "code",
      "source": [
        "drive.mount('mydrive')"
      ],
      "metadata": {
        "colab": {
          "base_uri": "https://localhost:8080/"
        },
        "id": "W0ObvaBB5JOM",
        "outputId": "c0a84354-f8f1-49fb-e530-b46a44ff166f"
      },
      "execution_count": 2,
      "outputs": [
        {
          "output_type": "stream",
          "name": "stdout",
          "text": [
            "Mounted at mydrive\n"
          ]
        }
      ]
    },
    {
      "cell_type": "code",
      "source": [
        "dataset = pd.read_csv (\"/content/mydrive/MyDrive/EDEM/Data Project/cardio.csv\", sep=\",\")"
      ],
      "metadata": {
        "id": "EiUN62Vn5R4H"
      },
      "execution_count": 3,
      "outputs": []
    },
    {
      "cell_type": "markdown",
      "source": [
        "Antes de trabajar con el dataset comprobamos que no hay ningún valor que falte o sea null"
      ],
      "metadata": {
        "id": "93d0Gwjcg3hQ"
      }
    },
    {
      "cell_type": "code",
      "source": [
        "dataset.isnull().values.any()"
      ],
      "metadata": {
        "colab": {
          "base_uri": "https://localhost:8080/"
        },
        "id": "QS13A8BZg1By",
        "outputId": "8d820bcb-84fb-4524-dfa4-e94a430927c6"
      },
      "execution_count": 4,
      "outputs": [
        {
          "output_type": "execute_result",
          "data": {
            "text/plain": [
              "False"
            ]
          },
          "metadata": {},
          "execution_count": 4
        }
      ]
    },
    {
      "cell_type": "code",
      "source": [
        "#Guardo las variables que voy a utilizar\n",
        "age = dataset.age  #Este edad está en días\n",
        "dataset['years_old'] = (dataset['age'] / 365).round().astype('int') #Creo la variable 'years_old', la cual es 'age' pero dividida entre 365 para tener la edad en años\n",
        "sistolica = dataset.ap_hi\n",
        "diastolica = dataset.ap_lo\n",
        "colesterol = dataset.cholesterol\n",
        "fumador = dataset.smoke\n",
        "bebedor = dataset.alco\n",
        "activo = dataset.active"
      ],
      "metadata": {
        "id": "ncKNhT_H9qTL"
      },
      "execution_count": 5,
      "outputs": []
    },
    {
      "cell_type": "markdown",
      "source": [
        "Para las variables nominales, aclarar lo siguiente:\n",
        "En 'gender': el valor 1 es mujeres y el valor 2 es hombres\n",
        "En 'cholesterol': el valor 1 es saludable, 2 es riesgo y 3 es no saludable\n",
        "En 'active': el valor 0 es no actividad física y el 1 es que si lo hay\n",
        "En 'cardio': el valor 0 es no problemas cardíacos y el 1 es que si los hay\n",
        "\n",
        "De modo lo creamos las variables_cat para que quede clarificado"
      ],
      "metadata": {
        "id": "5SdXmTuMLuCU"
      }
    },
    {
      "cell_type": "code",
      "source": [
        "dataset.loc[(dataset['gender']==1),\"gender_cat\"]= \"Female\"\n",
        "dataset.loc[(dataset['gender']==2),\"gender_cat\"]= \"Male\"\n",
        "dataset.loc[(dataset['cholesterol']==1),\"chol_cat\"]= \"Saludable\"\n",
        "dataset.loc[(dataset['cholesterol']==2),\"chol_cat\"]= \"Elevado\"\n",
        "dataset.loc[(dataset['cholesterol']==3),\"chol_cat\"]= \"No saludable\"\n",
        "dataset.loc[(dataset['smoke']==0),\"smoke_cat\"]= \"No fumador\"\n",
        "dataset.loc[(dataset['smoke']==1),\"smoke_cat\"]= \"Fumador\"\n",
        "dataset.loc[(dataset['smoke']==0),\"alco_cat\"]= \"No bebe\"\n",
        "dataset.loc[(dataset['smoke']==1),\"alco_cat\"]= \"Bebe\"\n",
        "dataset.loc[(dataset['active']==0),\"active_cat\"]= \"No hace ejercicio\"\n",
        "dataset.loc[(dataset['active']==1),\"active_cat\"]= \"Hace ejercicio\"\n",
        "dataset.loc[(dataset['cardio']==0),\"cardio_cat\"]= \"Sin reporte cardiovascular\"\n",
        "dataset.loc[(dataset['cardio']==1),\"cardio_cat\"]= \"Con reporte cardiovascular\""
      ],
      "metadata": {
        "id": "3pwbqpoBK3sK"
      },
      "execution_count": 6,
      "outputs": []
    },
    {
      "cell_type": "markdown",
      "source": [
        "Mostramos los cambios y eliminamos las columnas que no vamos a trabajar para una visión más clara"
      ],
      "metadata": {
        "id": "uKG0HE0iNFWQ"
      }
    },
    {
      "cell_type": "code",
      "source": [
        "dataset.drop(['id','height', 'weight','gluc','ap_hi','ap_lo'], axis=1)"
      ],
      "metadata": {
        "colab": {
          "base_uri": "https://localhost:8080/",
          "height": 423
        },
        "id": "RsoqpVF0MEb2",
        "outputId": "913ef2f2-eb87-4fe0-961e-cefa26dc413f"
      },
      "execution_count": 7,
      "outputs": [
        {
          "output_type": "execute_result",
          "data": {
            "text/html": [
              "\n",
              "  <div id=\"df-6f0af722-31e2-4c4d-8e33-87208c41f699\">\n",
              "    <div class=\"colab-df-container\">\n",
              "      <div>\n",
              "<style scoped>\n",
              "    .dataframe tbody tr th:only-of-type {\n",
              "        vertical-align: middle;\n",
              "    }\n",
              "\n",
              "    .dataframe tbody tr th {\n",
              "        vertical-align: top;\n",
              "    }\n",
              "\n",
              "    .dataframe thead th {\n",
              "        text-align: right;\n",
              "    }\n",
              "</style>\n",
              "<table border=\"1\" class=\"dataframe\">\n",
              "  <thead>\n",
              "    <tr style=\"text-align: right;\">\n",
              "      <th></th>\n",
              "      <th>age</th>\n",
              "      <th>gender</th>\n",
              "      <th>cholesterol</th>\n",
              "      <th>smoke</th>\n",
              "      <th>alco</th>\n",
              "      <th>active</th>\n",
              "      <th>cardio</th>\n",
              "      <th>years_old</th>\n",
              "      <th>gender_cat</th>\n",
              "      <th>chol_cat</th>\n",
              "      <th>smoke_cat</th>\n",
              "      <th>alco_cat</th>\n",
              "      <th>active_cat</th>\n",
              "      <th>cardio_cat</th>\n",
              "    </tr>\n",
              "  </thead>\n",
              "  <tbody>\n",
              "    <tr>\n",
              "      <th>0</th>\n",
              "      <td>18393</td>\n",
              "      <td>2</td>\n",
              "      <td>1</td>\n",
              "      <td>0</td>\n",
              "      <td>0</td>\n",
              "      <td>1</td>\n",
              "      <td>0</td>\n",
              "      <td>50</td>\n",
              "      <td>Male</td>\n",
              "      <td>Saludable</td>\n",
              "      <td>No fumador</td>\n",
              "      <td>No bebe</td>\n",
              "      <td>Hace ejercicio</td>\n",
              "      <td>Sin reporte cardiovascular</td>\n",
              "    </tr>\n",
              "    <tr>\n",
              "      <th>1</th>\n",
              "      <td>20228</td>\n",
              "      <td>1</td>\n",
              "      <td>3</td>\n",
              "      <td>0</td>\n",
              "      <td>0</td>\n",
              "      <td>1</td>\n",
              "      <td>1</td>\n",
              "      <td>55</td>\n",
              "      <td>Female</td>\n",
              "      <td>No saludable</td>\n",
              "      <td>No fumador</td>\n",
              "      <td>No bebe</td>\n",
              "      <td>Hace ejercicio</td>\n",
              "      <td>Con reporte cardiovascular</td>\n",
              "    </tr>\n",
              "    <tr>\n",
              "      <th>2</th>\n",
              "      <td>18857</td>\n",
              "      <td>1</td>\n",
              "      <td>3</td>\n",
              "      <td>0</td>\n",
              "      <td>0</td>\n",
              "      <td>0</td>\n",
              "      <td>1</td>\n",
              "      <td>52</td>\n",
              "      <td>Female</td>\n",
              "      <td>No saludable</td>\n",
              "      <td>No fumador</td>\n",
              "      <td>No bebe</td>\n",
              "      <td>No hace ejercicio</td>\n",
              "      <td>Con reporte cardiovascular</td>\n",
              "    </tr>\n",
              "    <tr>\n",
              "      <th>3</th>\n",
              "      <td>17623</td>\n",
              "      <td>2</td>\n",
              "      <td>1</td>\n",
              "      <td>0</td>\n",
              "      <td>0</td>\n",
              "      <td>1</td>\n",
              "      <td>1</td>\n",
              "      <td>48</td>\n",
              "      <td>Male</td>\n",
              "      <td>Saludable</td>\n",
              "      <td>No fumador</td>\n",
              "      <td>No bebe</td>\n",
              "      <td>Hace ejercicio</td>\n",
              "      <td>Con reporte cardiovascular</td>\n",
              "    </tr>\n",
              "    <tr>\n",
              "      <th>4</th>\n",
              "      <td>17474</td>\n",
              "      <td>1</td>\n",
              "      <td>1</td>\n",
              "      <td>0</td>\n",
              "      <td>0</td>\n",
              "      <td>0</td>\n",
              "      <td>0</td>\n",
              "      <td>48</td>\n",
              "      <td>Female</td>\n",
              "      <td>Saludable</td>\n",
              "      <td>No fumador</td>\n",
              "      <td>No bebe</td>\n",
              "      <td>No hace ejercicio</td>\n",
              "      <td>Sin reporte cardiovascular</td>\n",
              "    </tr>\n",
              "    <tr>\n",
              "      <th>...</th>\n",
              "      <td>...</td>\n",
              "      <td>...</td>\n",
              "      <td>...</td>\n",
              "      <td>...</td>\n",
              "      <td>...</td>\n",
              "      <td>...</td>\n",
              "      <td>...</td>\n",
              "      <td>...</td>\n",
              "      <td>...</td>\n",
              "      <td>...</td>\n",
              "      <td>...</td>\n",
              "      <td>...</td>\n",
              "      <td>...</td>\n",
              "      <td>...</td>\n",
              "    </tr>\n",
              "    <tr>\n",
              "      <th>69995</th>\n",
              "      <td>19240</td>\n",
              "      <td>2</td>\n",
              "      <td>1</td>\n",
              "      <td>1</td>\n",
              "      <td>0</td>\n",
              "      <td>1</td>\n",
              "      <td>0</td>\n",
              "      <td>53</td>\n",
              "      <td>Male</td>\n",
              "      <td>Saludable</td>\n",
              "      <td>Fumador</td>\n",
              "      <td>Bebe</td>\n",
              "      <td>Hace ejercicio</td>\n",
              "      <td>Sin reporte cardiovascular</td>\n",
              "    </tr>\n",
              "    <tr>\n",
              "      <th>69996</th>\n",
              "      <td>22601</td>\n",
              "      <td>1</td>\n",
              "      <td>2</td>\n",
              "      <td>0</td>\n",
              "      <td>0</td>\n",
              "      <td>1</td>\n",
              "      <td>1</td>\n",
              "      <td>62</td>\n",
              "      <td>Female</td>\n",
              "      <td>Elevado</td>\n",
              "      <td>No fumador</td>\n",
              "      <td>No bebe</td>\n",
              "      <td>Hace ejercicio</td>\n",
              "      <td>Con reporte cardiovascular</td>\n",
              "    </tr>\n",
              "    <tr>\n",
              "      <th>69997</th>\n",
              "      <td>19066</td>\n",
              "      <td>2</td>\n",
              "      <td>3</td>\n",
              "      <td>0</td>\n",
              "      <td>1</td>\n",
              "      <td>0</td>\n",
              "      <td>1</td>\n",
              "      <td>52</td>\n",
              "      <td>Male</td>\n",
              "      <td>No saludable</td>\n",
              "      <td>No fumador</td>\n",
              "      <td>No bebe</td>\n",
              "      <td>No hace ejercicio</td>\n",
              "      <td>Con reporte cardiovascular</td>\n",
              "    </tr>\n",
              "    <tr>\n",
              "      <th>69998</th>\n",
              "      <td>22431</td>\n",
              "      <td>1</td>\n",
              "      <td>1</td>\n",
              "      <td>0</td>\n",
              "      <td>0</td>\n",
              "      <td>0</td>\n",
              "      <td>1</td>\n",
              "      <td>61</td>\n",
              "      <td>Female</td>\n",
              "      <td>Saludable</td>\n",
              "      <td>No fumador</td>\n",
              "      <td>No bebe</td>\n",
              "      <td>No hace ejercicio</td>\n",
              "      <td>Con reporte cardiovascular</td>\n",
              "    </tr>\n",
              "    <tr>\n",
              "      <th>69999</th>\n",
              "      <td>20540</td>\n",
              "      <td>1</td>\n",
              "      <td>2</td>\n",
              "      <td>0</td>\n",
              "      <td>0</td>\n",
              "      <td>1</td>\n",
              "      <td>0</td>\n",
              "      <td>56</td>\n",
              "      <td>Female</td>\n",
              "      <td>Elevado</td>\n",
              "      <td>No fumador</td>\n",
              "      <td>No bebe</td>\n",
              "      <td>Hace ejercicio</td>\n",
              "      <td>Sin reporte cardiovascular</td>\n",
              "    </tr>\n",
              "  </tbody>\n",
              "</table>\n",
              "<p>70000 rows × 14 columns</p>\n",
              "</div>\n",
              "      <button class=\"colab-df-convert\" onclick=\"convertToInteractive('df-6f0af722-31e2-4c4d-8e33-87208c41f699')\"\n",
              "              title=\"Convert this dataframe to an interactive table.\"\n",
              "              style=\"display:none;\">\n",
              "        \n",
              "  <svg xmlns=\"http://www.w3.org/2000/svg\" height=\"24px\"viewBox=\"0 0 24 24\"\n",
              "       width=\"24px\">\n",
              "    <path d=\"M0 0h24v24H0V0z\" fill=\"none\"/>\n",
              "    <path d=\"M18.56 5.44l.94 2.06.94-2.06 2.06-.94-2.06-.94-.94-2.06-.94 2.06-2.06.94zm-11 1L8.5 8.5l.94-2.06 2.06-.94-2.06-.94L8.5 2.5l-.94 2.06-2.06.94zm10 10l.94 2.06.94-2.06 2.06-.94-2.06-.94-.94-2.06-.94 2.06-2.06.94z\"/><path d=\"M17.41 7.96l-1.37-1.37c-.4-.4-.92-.59-1.43-.59-.52 0-1.04.2-1.43.59L10.3 9.45l-7.72 7.72c-.78.78-.78 2.05 0 2.83L4 21.41c.39.39.9.59 1.41.59.51 0 1.02-.2 1.41-.59l7.78-7.78 2.81-2.81c.8-.78.8-2.07 0-2.86zM5.41 20L4 18.59l7.72-7.72 1.47 1.35L5.41 20z\"/>\n",
              "  </svg>\n",
              "      </button>\n",
              "      \n",
              "  <style>\n",
              "    .colab-df-container {\n",
              "      display:flex;\n",
              "      flex-wrap:wrap;\n",
              "      gap: 12px;\n",
              "    }\n",
              "\n",
              "    .colab-df-convert {\n",
              "      background-color: #E8F0FE;\n",
              "      border: none;\n",
              "      border-radius: 50%;\n",
              "      cursor: pointer;\n",
              "      display: none;\n",
              "      fill: #1967D2;\n",
              "      height: 32px;\n",
              "      padding: 0 0 0 0;\n",
              "      width: 32px;\n",
              "    }\n",
              "\n",
              "    .colab-df-convert:hover {\n",
              "      background-color: #E2EBFA;\n",
              "      box-shadow: 0px 1px 2px rgba(60, 64, 67, 0.3), 0px 1px 3px 1px rgba(60, 64, 67, 0.15);\n",
              "      fill: #174EA6;\n",
              "    }\n",
              "\n",
              "    [theme=dark] .colab-df-convert {\n",
              "      background-color: #3B4455;\n",
              "      fill: #D2E3FC;\n",
              "    }\n",
              "\n",
              "    [theme=dark] .colab-df-convert:hover {\n",
              "      background-color: #434B5C;\n",
              "      box-shadow: 0px 1px 3px 1px rgba(0, 0, 0, 0.15);\n",
              "      filter: drop-shadow(0px 1px 2px rgba(0, 0, 0, 0.3));\n",
              "      fill: #FFFFFF;\n",
              "    }\n",
              "  </style>\n",
              "\n",
              "      <script>\n",
              "        const buttonEl =\n",
              "          document.querySelector('#df-6f0af722-31e2-4c4d-8e33-87208c41f699 button.colab-df-convert');\n",
              "        buttonEl.style.display =\n",
              "          google.colab.kernel.accessAllowed ? 'block' : 'none';\n",
              "\n",
              "        async function convertToInteractive(key) {\n",
              "          const element = document.querySelector('#df-6f0af722-31e2-4c4d-8e33-87208c41f699');\n",
              "          const dataTable =\n",
              "            await google.colab.kernel.invokeFunction('convertToInteractive',\n",
              "                                                     [key], {});\n",
              "          if (!dataTable) return;\n",
              "\n",
              "          const docLinkHtml = 'Like what you see? Visit the ' +\n",
              "            '<a target=\"_blank\" href=https://colab.research.google.com/notebooks/data_table.ipynb>data table notebook</a>'\n",
              "            + ' to learn more about interactive tables.';\n",
              "          element.innerHTML = '';\n",
              "          dataTable['output_type'] = 'display_data';\n",
              "          await google.colab.output.renderOutput(dataTable, element);\n",
              "          const docLink = document.createElement('div');\n",
              "          docLink.innerHTML = docLinkHtml;\n",
              "          element.appendChild(docLink);\n",
              "        }\n",
              "      </script>\n",
              "    </div>\n",
              "  </div>\n",
              "  "
            ],
            "text/plain": [
              "         age  gender  ...         active_cat                  cardio_cat\n",
              "0      18393       2  ...     Hace ejercicio  Sin reporte cardiovascular\n",
              "1      20228       1  ...     Hace ejercicio  Con reporte cardiovascular\n",
              "2      18857       1  ...  No hace ejercicio  Con reporte cardiovascular\n",
              "3      17623       2  ...     Hace ejercicio  Con reporte cardiovascular\n",
              "4      17474       1  ...  No hace ejercicio  Sin reporte cardiovascular\n",
              "...      ...     ...  ...                ...                         ...\n",
              "69995  19240       2  ...     Hace ejercicio  Sin reporte cardiovascular\n",
              "69996  22601       1  ...     Hace ejercicio  Con reporte cardiovascular\n",
              "69997  19066       2  ...  No hace ejercicio  Con reporte cardiovascular\n",
              "69998  22431       1  ...  No hace ejercicio  Con reporte cardiovascular\n",
              "69999  20540       1  ...     Hace ejercicio  Sin reporte cardiovascular\n",
              "\n",
              "[70000 rows x 14 columns]"
            ]
          },
          "metadata": {},
          "execution_count": 7
        }
      ]
    },
    {
      "cell_type": "markdown",
      "source": [
        "# Trabajamos nuestra variable predicha, la edad"
      ],
      "metadata": {
        "id": "CGfJ4emnEhnJ"
      }
    },
    {
      "cell_type": "code",
      "source": [
        "years_old = dataset['years_old'].describe()\n",
        "years_old"
      ],
      "metadata": {
        "colab": {
          "base_uri": "https://localhost:8080/"
        },
        "id": "cU3qJzlcEG75",
        "outputId": "240759b5-4f8e-44f9-9474-e1f565a8571f"
      },
      "execution_count": 8,
      "outputs": [
        {
          "output_type": "execute_result",
          "data": {
            "text/plain": [
              "count    70000.000000\n",
              "mean        53.338686\n",
              "std          6.765294\n",
              "min         30.000000\n",
              "25%         48.000000\n",
              "50%         54.000000\n",
              "75%         58.000000\n",
              "max         65.000000\n",
              "Name: years_old, dtype: float64"
            ]
          },
          "metadata": {},
          "execution_count": 8
        }
      ]
    },
    {
      "cell_type": "code",
      "source": [
        "n = years_old[0]\n",
        "m_years_old = years_old[1]\n",
        "sd_years_old = years_old[2]"
      ],
      "metadata": {
        "id": "nwdGOFqrEWqe"
      },
      "execution_count": 9,
      "outputs": []
    },
    {
      "cell_type": "code",
      "source": [
        "edad = dataset['years_old']\n",
        "plt.hist(edad, bins=15, edgecolor='black')\n",
        "plt.xlabel('Edad')\n",
        "plt.xticks(np.arange(30, 70, step= 5))\n",
        "plt.ylabel('Frequencia')\n",
        "props = dict(boxstyle= 'round', facecolor='white', lw=0.5)\n",
        "plt.text(2,100,'Media:53.33''\\n''N:70000' '\\n' 'SD: 6.76', bbox=props)\n",
        "plt.title('Número de personas por edad''\\n')\n",
        "plt.axvline(53.33, linewidth=1, linestyle='solid', color = 'red')\n",
        "plt.axvline(46.57, linewidth=1, linestyle= 'dashed', color= 'green')\n",
        "plt.axvline(60.10, linewidth=1, linestyle= 'dashed', color= 'green')\n",
        "plt.legend(labels=['Media', 'SD ± Media'])\n",
        "plt.show()"
      ],
      "metadata": {
        "colab": {
          "base_uri": "https://localhost:8080/",
          "height": 310
        },
        "id": "RyNrFlhvM4Kd",
        "outputId": "36b48e64-4eb7-4420-c4da-d06ef6f4be2f"
      },
      "execution_count": 65,
      "outputs": [
        {
          "output_type": "display_data",
          "data": {
            "image/png": "[encoded data removed]",
            "text/plain": [
              "<Figure size 432x288 with 1 Axes>"
            ]
          },
          "metadata": {
            "needs_background": "light"
          }
        }
      ]
    },
    {
      "cell_type": "markdown",
      "source": [
        "# Trabajamos nuestras variables predictoras"
      ],
      "metadata": {
        "id": "oTfDrPBLQl7p"
      }
    },
    {
      "cell_type": "markdown",
      "source": [
        "# Colesterol\n",
        "1: normal, saludable\n",
        "\n",
        "2: ligeramente por encima de lo normal, situación de posible riesgo\n",
        "\n",
        "3: muy por encima de lo normal, no saludable\n"
      ],
      "metadata": {
        "id": "JW8jm0dgQ3hC"
      }
    },
    {
      "cell_type": "code",
      "source": [
        "col_table = dataset.groupby(['cholesterol']).size()\n",
        "print(col_table)\n",
        "n=col_table.sum()\n",
        "col_table2 = (col_table/n)*100\n",
        "print(col_table2)\n",
        "n=col_table.sum()"
      ],
      "metadata": {
        "colab": {
          "base_uri": "https://localhost:8080/"
        },
        "id": "8YszFRnDQsDi",
        "outputId": "8c817320-7c36-488d-bf6a-84d85f5d1e29"
      },
      "execution_count": 11,
      "outputs": [
        {
          "output_type": "stream",
          "name": "stdout",
          "text": [
            "cholesterol\n",
            "1    52385\n",
            "2     9549\n",
            "3     8066\n",
            "dtype: int64\n",
            "cholesterol\n",
            "1    74.835714\n",
            "2    13.641429\n",
            "3    11.522857\n",
            "dtype: float64\n"
          ]
        }
      ]
    },
    {
      "cell_type": "code",
      "source": [
        "bar_list = ['Saludable', 'Elevado','No saludable']\n",
        "plt.bar(bar_list, col_table2, edgecolor='black')\n",
        "plt.title(\"Porcentaje de personas según sus niveles de colesterol\")\n",
        "plt.ylabel('Porcentaje')\n",
        "plt.xlabel('Nivel de colesterol')\n",
        "props = dict(boxstyle='round', facecolor='white',lw=0.5)\n",
        "textstr = '$\\mathrm{n}=%.0f$'%(n)\n",
        "plt.text (2,70, textstr , bbox=props)\n",
        "plt.show()"
      ],
      "metadata": {
        "colab": {
          "base_uri": "https://localhost:8080/",
          "height": 295
        },
        "id": "KqDpE2dG92U9",
        "outputId": "cc32ebca-0cf2-489e-ddcd-a42eef817f44"
      },
      "execution_count": 66,
      "outputs": [
        {
          "output_type": "display_data",
          "data": {
            "image/png": "[encoded data removed]",
            "text/plain": [
              "<Figure size 432x288 with 1 Axes>"
            ]
          },
          "metadata": {
            "needs_background": "light"
          }
        }
      ]
    },
    {
      "cell_type": "code",
      "source": [
        "dataset.groupby('chol_cat').years_old.mean()"
      ],
      "metadata": {
        "colab": {
          "base_uri": "https://localhost:8080/"
        },
        "id": "GmC0WcDUFxFY",
        "outputId": "a1f5c34a-8125-400c-ff46-6e6bd9948ee5"
      },
      "execution_count": 13,
      "outputs": [
        {
          "output_type": "execute_result",
          "data": {
            "text/plain": [
              "chol_cat\n",
              "Elevado         53.712326\n",
              "No saludable    56.200471\n",
              "Saludable       52.829932\n",
              "Name: years_old, dtype: float64"
            ]
          },
          "metadata": {},
          "execution_count": 13
        }
      ]
    },
    {
      "cell_type": "code",
      "source": [
        "#Descriptive comparison\n",
        "dataset.groupby('chol_cat').years_old.mean()\n",
        "#Statistical comparison\n",
        "col_sana=dataset.loc[dataset.chol_cat=='Saludable', \"years_old\"]\n",
        "col_riesgo=dataset.loc[dataset.chol_cat=='Elevado', \"years_old\"]\n",
        "col_no_sana=dataset.loc[dataset.chol_cat=='No saludable', \"years_old\"]\n",
        "\n",
        "stats.f_oneway(col_sana, col_riesgo, col_no_sana)"
      ],
      "metadata": {
        "colab": {
          "base_uri": "https://localhost:8080/"
        },
        "id": "DtejreNXA-EA",
        "outputId": "90d156da-6729-43aa-f509-ef1b793061b4"
      },
      "execution_count": 14,
      "outputs": [
        {
          "output_type": "execute_result",
          "data": {
            "text/plain": [
              "F_onewayResult(statistic=907.2369830978461, pvalue=0.0)"
            ]
          },
          "metadata": {},
          "execution_count": 14
        }
      ]
    },
    {
      "cell_type": "code",
      "source": [
        "plt.figure(figsize=(6,6))\n",
        "ax = sns.pointplot(x=\"chol_cat\", y=\"years_old\", data=dataset,capsize=0.05, ci=95, join=0, order=['Saludable', 'Elevado', 'No saludable'])\n",
        "ax.set_ylabel('Popularidad')\n",
        "plt.yticks(np.arange(52, 58, step=1))\n",
        "plt.axhline(y=dataset['years_old'].mean(),linewidth=1,linestyle= 'dashed',color=\"green\")\n",
        "props = dict(boxstyle='round', facecolor='white', lw=0.5)\n",
        "plt.text(-0.45,56.4,'Mean:53.33''\\n''N:70000''\\n' 'Pval.:0.00', bbox=props)\n",
        "plt.xlabel('Género')\n",
        "plt.title('Media de edad según el el nivel de colesterol.''\\n')\n",
        "plt.show()"
      ],
      "metadata": {
        "colab": {
          "base_uri": "https://localhost:8080/",
          "height": 419
        },
        "id": "m5xHmEddkFhX",
        "outputId": "55e2d3aa-b69f-4c58-89ee-6b5c0a608dca"
      },
      "execution_count": 67,
      "outputs": [
        {
          "output_type": "display_data",
          "data": {
            "image/png": "[encoded data removed]",
            "text/plain": [
              "<Figure size 432x432 with 1 Axes>"
            ]
          },
          "metadata": {
            "needs_background": "light"
          }
        }
      ]
    },
    {
      "cell_type": "markdown",
      "source": [
        "Como el p valor es menor de 0.05, rechazamos la hipótesis nula.\n",
        "\n",
        "La edad afecta significativamente a una persona en base a su situación con el colesterol."
      ],
      "metadata": {
        "id": "88h6MEO-fr9J"
      }
    },
    {
      "cell_type": "markdown",
      "source": [
        "# Activo y no activo"
      ],
      "metadata": {
        "id": "WyDbqBEUHCO3"
      }
    },
    {
      "cell_type": "code",
      "source": [
        "acti_table = dataset.groupby(['active']).size()\n",
        "print(acti_table)\n",
        "n=acti_table.sum()\n",
        "acti_table2 = (acti_table/n)*100\n",
        "print(acti_table2)\n",
        "n=acti_table.sum()"
      ],
      "metadata": {
        "colab": {
          "base_uri": "https://localhost:8080/"
        },
        "id": "Ubb3IlXnHRuQ",
        "outputId": "7c6b6cbb-2704-4dc4-97b1-bfda1e2b6f4b"
      },
      "execution_count": 16,
      "outputs": [
        {
          "output_type": "stream",
          "name": "stdout",
          "text": [
            "active\n",
            "0    13739\n",
            "1    56261\n",
            "dtype: int64\n",
            "active\n",
            "0    19.627143\n",
            "1    80.372857\n",
            "dtype: float64\n"
          ]
        }
      ]
    },
    {
      "cell_type": "code",
      "source": [
        "bar_list = ['No activo', 'Activo']\n",
        "plt.bar(bar_list, acti_table2, edgecolor='black')\n",
        "plt.title(\"Porcentaje de personas según su actividad física\")\n",
        "plt.ylabel('Porcentaje')\n",
        "plt.xlabel('Actividad física')\n",
        "props = dict(boxstyle='round', facecolor='white',lw=0.5)\n",
        "textstr = '$\\mathrm{n}=%.0f$'%(n)\n",
        "plt.text (0,70, textstr , bbox=props)\n",
        "plt.show()"
      ],
      "metadata": {
        "colab": {
          "base_uri": "https://localhost:8080/",
          "height": 295
        },
        "id": "bvcT2yM0I_3n",
        "outputId": "3232152d-8317-4ac0-9ae8-56dff44d5c8e"
      },
      "execution_count": 68,
      "outputs": [
        {
          "output_type": "display_data",
          "data": {
            "image/png": "[encoded data removed]",
            "text/plain": [
              "<Figure size 432x288 with 1 Axes>"
            ]
          },
          "metadata": {
            "needs_background": "light"
          }
        }
      ]
    },
    {
      "cell_type": "code",
      "source": [
        "#Descriptive comparison\n",
        "dataset.groupby('active').years_old.mean()"
      ],
      "metadata": {
        "colab": {
          "base_uri": "https://localhost:8080/"
        },
        "id": "Cr0e1tUsLXjg",
        "outputId": "6bf85e88-15cc-467d-e6a4-855811df7c6a"
      },
      "execution_count": 18,
      "outputs": [
        {
          "output_type": "execute_result",
          "data": {
            "text/plain": [
              "active\n",
              "0    53.473106\n",
              "1    53.305860\n",
              "Name: years_old, dtype: float64"
            ]
          },
          "metadata": {},
          "execution_count": 18
        }
      ]
    },
    {
      "cell_type": "code",
      "source": [
        "#Statistical comparison\n",
        "no_activos=dataset.loc[dataset.active_cat=='Hace ejercicio', \"years_old\"]\n",
        "activos=dataset.loc[dataset.active_cat=='No hace ejercicio', \"years_old\"]\n",
        "\n",
        "res = stats.f_oneway(no_activos, activos)\n",
        "print(res)"
      ],
      "metadata": {
        "colab": {
          "base_uri": "https://localhost:8080/"
        },
        "id": "5EipVCHpJw-A",
        "outputId": "791f22ac-f51f-45ec-ca59-257197f7e4cb"
      },
      "execution_count": 19,
      "outputs": [
        {
          "output_type": "stream",
          "name": "stdout",
          "text": [
            "F_onewayResult(statistic=6.748948182092627, pvalue=0.009382260765441006)\n"
          ]
        }
      ]
    },
    {
      "cell_type": "markdown",
      "source": [
        "Como el p valor es menor de 0.05, rechazamos la hipótesis nula.\n",
        "\n",
        "La edad afecta significativamente a una persona en base a su situación de actividad física."
      ],
      "metadata": {
        "id": "uJsdta24fbia"
      }
    },
    {
      "cell_type": "code",
      "source": [
        "plt.figure(figsize=(6,6))\n",
        "ax = sns.pointplot(x=\"active_cat\", y=\"years_old\", data=dataset,capsize=0.05, ci=95, join=0, order=['Hace ejercicio', 'No hace ejercicio'])\n",
        "ax.set_ylabel('Edad')\n",
        "plt.yticks(np.arange(52, 58, step=1))\n",
        "plt.axhline(y=dataset['years_old'].mean(),linewidth=1,linestyle= 'dashed',color=\"green\")\n",
        "props = dict(boxstyle='round', facecolor='white', lw=0.5)\n",
        "plt.text(-0.45,56.4,'Mean:53.33''\\n''N:70000''\\n' 'Pval.:0.01', bbox=props)\n",
        "plt.xlabel('Actividad física')\n",
        "plt.title('Media de popularidad según el género.''\\n')\n",
        "plt.show()"
      ],
      "metadata": {
        "colab": {
          "base_uri": "https://localhost:8080/",
          "height": 419
        },
        "id": "OhFGG24NnHRK",
        "outputId": "9e6465ef-97b1-4106-8286-9a4811f28548"
      },
      "execution_count": 70,
      "outputs": [
        {
          "output_type": "display_data",
          "data": {
            "image/png": "[encoded data removed]",
            "text/plain": [
              "<Figure size 432x432 with 1 Axes>"
            ]
          },
          "metadata": {
            "needs_background": "light"
          }
        }
      ]
    },
    {
      "cell_type": "markdown",
      "source": [
        "# Problemas cardíacos"
      ],
      "metadata": {
        "id": "PJyMj62QLyiB"
      }
    },
    {
      "cell_type": "code",
      "source": [
        "card_table = dataset.groupby(['cardio_cat']).size()\n",
        "print(card_table)\n",
        "n=card_table.sum()\n",
        "card_table2 = (card_table/n)*100\n",
        "print(card_table2)\n",
        "n=card_table.sum()"
      ],
      "metadata": {
        "colab": {
          "base_uri": "https://localhost:8080/"
        },
        "id": "tfca4AFbL3sl",
        "outputId": "5aa57407-6605-4774-a8aa-39f5581a7cdb"
      },
      "execution_count": 21,
      "outputs": [
        {
          "output_type": "stream",
          "name": "stdout",
          "text": [
            "cardio_cat\n",
            "Con reporte cardiovascular    34979\n",
            "Sin reporte cardiovascular    35021\n",
            "dtype: int64\n",
            "cardio_cat\n",
            "Con reporte cardiovascular    49.97\n",
            "Sin reporte cardiovascular    50.03\n",
            "dtype: float64\n"
          ]
        }
      ]
    },
    {
      "cell_type": "code",
      "source": [
        "pd.crosstab(dataset['cardio_cat'],dataset['gender_cat'],normalize=True)"
      ],
      "metadata": {
        "colab": {
          "base_uri": "https://localhost:8080/",
          "height": 143
        },
        "id": "TtGzgJO1jy0i",
        "outputId": "e6d094b2-6219-41f0-8f09-c90e6fed1c04"
      },
      "execution_count": 22,
      "outputs": [
        {
          "output_type": "execute_result",
          "data": {
            "text/html": [
              "\n",
              "  <div id=\"df-eea8c217-1487-4e09-95d5-a54e3b9bc951\">\n",
              "    <div class=\"colab-df-container\">\n",
              "      <div>\n",
              "<style scoped>\n",
              "    .dataframe tbody tr th:only-of-type {\n",
              "        vertical-align: middle;\n",
              "    }\n",
              "\n",
              "    .dataframe tbody tr th {\n",
              "        vertical-align: top;\n",
              "    }\n",
              "\n",
              "    .dataframe thead th {\n",
              "        text-align: right;\n",
              "    }\n",
              "</style>\n",
              "<table border=\"1\" class=\"dataframe\">\n",
              "  <thead>\n",
              "    <tr style=\"text-align: right;\">\n",
              "      <th>gender_cat</th>\n",
              "      <th>Female</th>\n",
              "      <th>Male</th>\n",
              "    </tr>\n",
              "    <tr>\n",
              "      <th>cardio_cat</th>\n",
              "      <th></th>\n",
              "      <th></th>\n",
              "    </tr>\n",
              "  </thead>\n",
              "  <tbody>\n",
              "    <tr>\n",
              "      <th>Con reporte cardiovascular</th>\n",
              "      <td>0.323086</td>\n",
              "      <td>0.176614</td>\n",
              "    </tr>\n",
              "    <tr>\n",
              "      <th>Sin reporte cardiovascular</th>\n",
              "      <td>0.327343</td>\n",
              "      <td>0.172957</td>\n",
              "    </tr>\n",
              "  </tbody>\n",
              "</table>\n",
              "</div>\n",
              "      <button class=\"colab-df-convert\" onclick=\"convertToInteractive('df-eea8c217-1487-4e09-95d5-a54e3b9bc951')\"\n",
              "              title=\"Convert this dataframe to an interactive table.\"\n",
              "              style=\"display:none;\">\n",
              "        \n",
              "  <svg xmlns=\"http://www.w3.org/2000/svg\" height=\"24px\"viewBox=\"0 0 24 24\"\n",
              "       width=\"24px\">\n",
              "    <path d=\"M0 0h24v24H0V0z\" fill=\"none\"/>\n",
              "    <path d=\"M18.56 5.44l.94 2.06.94-2.06 2.06-.94-2.06-.94-.94-2.06-.94 2.06-2.06.94zm-11 1L8.5 8.5l.94-2.06 2.06-.94-2.06-.94L8.5 2.5l-.94 2.06-2.06.94zm10 10l.94 2.06.94-2.06 2.06-.94-2.06-.94-.94-2.06-.94 2.06-2.06.94z\"/><path d=\"M17.41 7.96l-1.37-1.37c-.4-.4-.92-.59-1.43-.59-.52 0-1.04.2-1.43.59L10.3 9.45l-7.72 7.72c-.78.78-.78 2.05 0 2.83L4 21.41c.39.39.9.59 1.41.59.51 0 1.02-.2 1.41-.59l7.78-7.78 2.81-2.81c.8-.78.8-2.07 0-2.86zM5.41 20L4 18.59l7.72-7.72 1.47 1.35L5.41 20z\"/>\n",
              "  </svg>\n",
              "      </button>\n",
              "      \n",
              "  <style>\n",
              "    .colab-df-container {\n",
              "      display:flex;\n",
              "      flex-wrap:wrap;\n",
              "      gap: 12px;\n",
              "    }\n",
              "\n",
              "    .colab-df-convert {\n",
              "      background-color: #E8F0FE;\n",
              "      border: none;\n",
              "      border-radius: 50%;\n",
              "      cursor: pointer;\n",
              "      display: none;\n",
              "      fill: #1967D2;\n",
              "      height: 32px;\n",
              "      padding: 0 0 0 0;\n",
              "      width: 32px;\n",
              "    }\n",
              "\n",
              "    .colab-df-convert:hover {\n",
              "      background-color: #E2EBFA;\n",
              "      box-shadow: 0px 1px 2px rgba(60, 64, 67, 0.3), 0px 1px 3px 1px rgba(60, 64, 67, 0.15);\n",
              "      fill: #174EA6;\n",
              "    }\n",
              "\n",
              "    [theme=dark] .colab-df-convert {\n",
              "      background-color: #3B4455;\n",
              "      fill: #D2E3FC;\n",
              "    }\n",
              "\n",
              "    [theme=dark] .colab-df-convert:hover {\n",
              "      background-color: #434B5C;\n",
              "      box-shadow: 0px 1px 3px 1px rgba(0, 0, 0, 0.15);\n",
              "      filter: drop-shadow(0px 1px 2px rgba(0, 0, 0, 0.3));\n",
              "      fill: #FFFFFF;\n",
              "    }\n",
              "  </style>\n",
              "\n",
              "      <script>\n",
              "        const buttonEl =\n",
              "          document.querySelector('#df-eea8c217-1487-4e09-95d5-a54e3b9bc951 button.colab-df-convert');\n",
              "        buttonEl.style.display =\n",
              "          google.colab.kernel.accessAllowed ? 'block' : 'none';\n",
              "\n",
              "        async function convertToInteractive(key) {\n",
              "          const element = document.querySelector('#df-eea8c217-1487-4e09-95d5-a54e3b9bc951');\n",
              "          const dataTable =\n",
              "            await google.colab.kernel.invokeFunction('convertToInteractive',\n",
              "                                                     [key], {});\n",
              "          if (!dataTable) return;\n",
              "\n",
              "          const docLinkHtml = 'Like what you see? Visit the ' +\n",
              "            '<a target=\"_blank\" href=https://colab.research.google.com/notebooks/data_table.ipynb>data table notebook</a>'\n",
              "            + ' to learn more about interactive tables.';\n",
              "          element.innerHTML = '';\n",
              "          dataTable['output_type'] = 'display_data';\n",
              "          await google.colab.output.renderOutput(dataTable, element);\n",
              "          const docLink = document.createElement('div');\n",
              "          docLink.innerHTML = docLinkHtml;\n",
              "          element.appendChild(docLink);\n",
              "        }\n",
              "      </script>\n",
              "    </div>\n",
              "  </div>\n",
              "  "
            ],
            "text/plain": [
              "gender_cat                    Female      Male\n",
              "cardio_cat                                    \n",
              "Con reporte cardiovascular  0.323086  0.176614\n",
              "Sin reporte cardiovascular  0.327343  0.172957"
            ]
          },
          "metadata": {},
          "execution_count": 22
        }
      ]
    },
    {
      "cell_type": "code",
      "source": [
        "bar_list = ['No problemas cardíacos', 'Con problemas cardíacos']\n",
        "plt.bar(bar_list, card_table2, edgecolor='black')\n",
        "plt.title(\"Porcentaje de personas con reportes de problemas cardíacos\")\n",
        "plt.ylabel('Porcentaje')\n",
        "plt.xlabel('Reportes cardíacos')\n",
        "props = dict(boxstyle='round', facecolor='white',lw=0.5)\n",
        "textstr = '$\\mathrm{n}=%.0f$'%(n)\n",
        "plt.text (-0.35,45, textstr , bbox=props)\n",
        "plt.show()"
      ],
      "metadata": {
        "colab": {
          "base_uri": "https://localhost:8080/",
          "height": 296
        },
        "id": "SBoZGnqCMlX2",
        "outputId": "608f03cb-22be-49d1-e83a-89e42cde299d"
      },
      "execution_count": 71,
      "outputs": [
        {
          "output_type": "display_data",
          "data": {
            "image/png": "[encoded data removed]",
            "text/plain": [
              "<Figure size 432x288 with 1 Axes>"
            ]
          },
          "metadata": {
            "needs_background": "light"
          }
        }
      ]
    },
    {
      "cell_type": "code",
      "source": [
        "#Descriptive comparison\n",
        "dataset.groupby('cardio_cat').years_old.mean()"
      ],
      "metadata": {
        "colab": {
          "base_uri": "https://localhost:8080/"
        },
        "id": "TWU3Zfc3M52m",
        "outputId": "b48ffe3e-4da4-49be-9df5-7048cb1a2e04"
      },
      "execution_count": 24,
      "outputs": [
        {
          "output_type": "execute_result",
          "data": {
            "text/plain": [
              "cardio_cat\n",
              "Con reporte cardiovascular    54.948083\n",
              "Sin reporte cardiovascular    51.731218\n",
              "Name: years_old, dtype: float64"
            ]
          },
          "metadata": {},
          "execution_count": 24
        }
      ]
    },
    {
      "cell_type": "code",
      "source": [
        "#Statistical comparison\n",
        "no_cardio=dataset.loc[dataset.cardio_cat=='Sin reporte cardiovascular', \"years_old\"]\n",
        "cardio=dataset.loc[dataset.cardio_cat=='Con reporte cardiovascular', \"years_old\"]\n",
        "\n",
        "res = stats.f_oneway(no_cardio, cardio)\n",
        "print(res)"
      ],
      "metadata": {
        "colab": {
          "base_uri": "https://localhost:8080/"
        },
        "id": "gdqq-ztENAMR",
        "outputId": "a25ac187-4773-454d-89d7-f964946db160"
      },
      "execution_count": 25,
      "outputs": [
        {
          "output_type": "stream",
          "name": "stdout",
          "text": [
            "F_onewayResult(statistic=4193.661785519235, pvalue=0.0)\n"
          ]
        }
      ]
    },
    {
      "cell_type": "code",
      "source": [
        "plt.figure(figsize=(6,6))\n",
        "ax = sns.pointplot(x=\"cardio_cat\", y=\"years_old\", data=dataset,capsize=0.05, ci=95, join=0, order=['Sin reporte cardiovascular', 'Con reporte cardiovascular'])\n",
        "ax.set_ylabel('Edad')\n",
        "plt.yticks(np.arange(52, 58, step=1))\n",
        "plt.axhline(y=dataset['years_old'].mean(),linewidth=1,linestyle= 'dashed',color=\"green\")\n",
        "props = dict(boxstyle='round', facecolor='white', lw=0.5)\n",
        "plt.text(-0.45,56.4,'Mean:53.33''\\n''N:70000''\\n' 'Pval.:0.0', bbox=props)\n",
        "plt.xlabel('Reportes')\n",
        "plt.title('Media de edad según reportes cardíacos.''\\n')\n",
        "plt.show()"
      ],
      "metadata": {
        "colab": {
          "base_uri": "https://localhost:8080/",
          "height": 419
        },
        "id": "aQ3r95RNsOgh",
        "outputId": "fbb5a811-e739-413e-fa86-03d5c5ee2cf6"
      },
      "execution_count": 72,
      "outputs": [
        {
          "output_type": "display_data",
          "data": {
            "image/png": "[encoded data removed]",
            "text/plain": [
              "<Figure size 432x432 with 1 Axes>"
            ]
          },
          "metadata": {
            "needs_background": "light"
          }
        }
      ]
    },
    {
      "cell_type": "markdown",
      "source": [
        "# 👇PARTE A REVISAR Y REALIZAR CAMBIOS, SOY CONSCIENTE DE LOS ERRORES"
      ],
      "metadata": {
        "id": "DFmisrkf8-tk"
      }
    },
    {
      "cell_type": "markdown",
      "source": [
        "# Ahora dejamos de tomar como predicha la edad para comparar por sexo\n",
        "Lo analizamos para poder justificar que las mujeres pagan menos por un seguro de vida\n",
        "\n",
        "1.   ¿Quién consume más alcohol?\n",
        "2.   ¿Quién fuma más?\n",
        "\n"
      ],
      "metadata": {
        "id": "2NoSoBpXDuFh"
      }
    },
    {
      "cell_type": "markdown",
      "source": [
        "Primero veamos como efectivamente las mujeres tienen más esperanza de vida:\n",
        "\n",
        "[Esperanza de vida general y por sexo en España](https://datosmacro.expansion.com/demografia/esperanza-vida/espana)\n",
        "\n",
        "En el enlace mencionado observamos como la esperanza de vida en España es de 82,33 años(2020).\n",
        "\n",
        "Para hombres es de 79,59 y en mujeres es de 85,06 años."
      ],
      "metadata": {
        "id": "e25VWbLN5ADx"
      }
    },
    {
      "cell_type": "markdown",
      "source": [
        "# Consumo del alcohol, ¿quien bebe más?"
      ],
      "metadata": {
        "id": "rxC1z74uwZEy"
      }
    },
    {
      "cell_type": "markdown",
      "source": [
        "Ahora analicemos con las variables de nuestro dataset:"
      ],
      "metadata": {
        "id": "wzgdXkkx5-OG"
      }
    },
    {
      "cell_type": "code",
      "source": [
        "alco_table = dataset.groupby(['alco']).size()\n",
        "print(alco_table)\n",
        "n=alco_table.sum()\n",
        "alco_table2 = (alco_table/n)*100\n",
        "print(alco_table2)\n",
        "n=alco_table.sum()"
      ],
      "metadata": {
        "id": "HKr6V7rjE8fe",
        "colab": {
          "base_uri": "https://localhost:8080/"
        },
        "outputId": "5e857a91-e9e5-45a2-a822-b14d15992163"
      },
      "execution_count": 27,
      "outputs": [
        {
          "output_type": "stream",
          "name": "stdout",
          "text": [
            "alco\n",
            "0    66236\n",
            "1     3764\n",
            "dtype: int64\n",
            "alco\n",
            "0    94.622857\n",
            "1     5.377143\n",
            "dtype: float64\n"
          ]
        }
      ]
    },
    {
      "cell_type": "code",
      "source": [
        "dataset['gender_cat'].value_counts()"
      ],
      "metadata": {
        "colab": {
          "base_uri": "https://localhost:8080/"
        },
        "id": "nxhMULxxEIL5",
        "outputId": "850f9eaf-8d35-432c-ca0b-9c074b088f00"
      },
      "execution_count": 28,
      "outputs": [
        {
          "output_type": "execute_result",
          "data": {
            "text/plain": [
              "Female    45530\n",
              "Male      24470\n",
              "Name: gender_cat, dtype: int64"
            ]
          },
          "metadata": {},
          "execution_count": 28
        }
      ]
    },
    {
      "cell_type": "markdown",
      "source": [
        "Tenemos una muestra de 45530 mujeres y 24470 hombres.\n",
        "\n",
        "Veamos cuantos de cada grupo consumen alcohol"
      ],
      "metadata": {
        "id": "2NWnnbWCEKdv"
      }
    },
    {
      "cell_type": "code",
      "source": [
        "#Crostabulation\n",
        "pd.crosstab(dataset.alco_cat, dataset.gender_cat, margins=True) #1º la VD target, 2º La predicción\n",
        "pd.crosstab(dataset.alco_cat, dataset.gender_cat,normalize='columns', margins=True)*100 #Para que nos de en porcentajes\n",
        "my_ct = pd.crosstab(dataset.alco_cat, dataset.gender_cat,normalize='columns', margins=True)*100\n",
        "my_ct=round(my_ct,1)\n",
        "print(my_ct)"
      ],
      "metadata": {
        "colab": {
          "base_uri": "https://localhost:8080/"
        },
        "id": "48Eu18B3fG03",
        "outputId": "bfc02cb5-3d40-475c-d329-a840d39666fd"
      },
      "execution_count": 29,
      "outputs": [
        {
          "output_type": "stream",
          "name": "stdout",
          "text": [
            "gender_cat  Female  Male   All\n",
            "alco_cat                      \n",
            "Bebe           1.8  21.9   8.8\n",
            "No bebe       98.2  78.1  91.2\n"
          ]
        }
      ]
    },
    {
      "cell_type": "code",
      "source": [
        "#Stadistical test\n",
        "ct = pd.crosstab(dataset.alco_cat, dataset.gender_cat)\n",
        "ct"
      ],
      "metadata": {
        "colab": {
          "base_uri": "https://localhost:8080/",
          "height": 143
        },
        "id": "KX8GkR_kgOm5",
        "outputId": "5e528bcf-cb72-4c9f-bf9e-4de107de79b7"
      },
      "execution_count": 30,
      "outputs": [
        {
          "output_type": "execute_result",
          "data": {
            "text/html": [
              "\n",
              "  <div id=\"df-e03aab3f-4a27-4f99-93c4-360ec4bd9943\">\n",
              "    <div class=\"colab-df-container\">\n",
              "      <div>\n",
              "<style scoped>\n",
              "    .dataframe tbody tr th:only-of-type {\n",
              "        vertical-align: middle;\n",
              "    }\n",
              "\n",
              "    .dataframe tbody tr th {\n",
              "        vertical-align: top;\n",
              "    }\n",
              "\n",
              "    .dataframe thead th {\n",
              "        text-align: right;\n",
              "    }\n",
              "</style>\n",
              "<table border=\"1\" class=\"dataframe\">\n",
              "  <thead>\n",
              "    <tr style=\"text-align: right;\">\n",
              "      <th>gender_cat</th>\n",
              "      <th>Female</th>\n",
              "      <th>Male</th>\n",
              "    </tr>\n",
              "    <tr>\n",
              "      <th>alco_cat</th>\n",
              "      <th></th>\n",
              "      <th></th>\n",
              "    </tr>\n",
              "  </thead>\n",
              "  <tbody>\n",
              "    <tr>\n",
              "      <th>Bebe</th>\n",
              "      <td>813</td>\n",
              "      <td>5356</td>\n",
              "    </tr>\n",
              "    <tr>\n",
              "      <th>No bebe</th>\n",
              "      <td>44717</td>\n",
              "      <td>19114</td>\n",
              "    </tr>\n",
              "  </tbody>\n",
              "</table>\n",
              "</div>\n",
              "      <button class=\"colab-df-convert\" onclick=\"convertToInteractive('df-e03aab3f-4a27-4f99-93c4-360ec4bd9943')\"\n",
              "              title=\"Convert this dataframe to an interactive table.\"\n",
              "              style=\"display:none;\">\n",
              "        \n",
              "  <svg xmlns=\"http://www.w3.org/2000/svg\" height=\"24px\"viewBox=\"0 0 24 24\"\n",
              "       width=\"24px\">\n",
              "    <path d=\"M0 0h24v24H0V0z\" fill=\"none\"/>\n",
              "    <path d=\"M18.56 5.44l.94 2.06.94-2.06 2.06-.94-2.06-.94-.94-2.06-.94 2.06-2.06.94zm-11 1L8.5 8.5l.94-2.06 2.06-.94-2.06-.94L8.5 2.5l-.94 2.06-2.06.94zm10 10l.94 2.06.94-2.06 2.06-.94-2.06-.94-.94-2.06-.94 2.06-2.06.94z\"/><path d=\"M17.41 7.96l-1.37-1.37c-.4-.4-.92-.59-1.43-.59-.52 0-1.04.2-1.43.59L10.3 9.45l-7.72 7.72c-.78.78-.78 2.05 0 2.83L4 21.41c.39.39.9.59 1.41.59.51 0 1.02-.2 1.41-.59l7.78-7.78 2.81-2.81c.8-.78.8-2.07 0-2.86zM5.41 20L4 18.59l7.72-7.72 1.47 1.35L5.41 20z\"/>\n",
              "  </svg>\n",
              "      </button>\n",
              "      \n",
              "  <style>\n",
              "    .colab-df-container {\n",
              "      display:flex;\n",
              "      flex-wrap:wrap;\n",
              "      gap: 12px;\n",
              "    }\n",
              "\n",
              "    .colab-df-convert {\n",
              "      background-color: #E8F0FE;\n",
              "      border: none;\n",
              "      border-radius: 50%;\n",
              "      cursor: pointer;\n",
              "      display: none;\n",
              "      fill: #1967D2;\n",
              "      height: 32px;\n",
              "      padding: 0 0 0 0;\n",
              "      width: 32px;\n",
              "    }\n",
              "\n",
              "    .colab-df-convert:hover {\n",
              "      background-color: #E2EBFA;\n",
              "      box-shadow: 0px 1px 2px rgba(60, 64, 67, 0.3), 0px 1px 3px 1px rgba(60, 64, 67, 0.15);\n",
              "      fill: #174EA6;\n",
              "    }\n",
              "\n",
              "    [theme=dark] .colab-df-convert {\n",
              "      background-color: #3B4455;\n",
              "      fill: #D2E3FC;\n",
              "    }\n",
              "\n",
              "    [theme=dark] .colab-df-convert:hover {\n",
              "      background-color: #434B5C;\n",
              "      box-shadow: 0px 1px 3px 1px rgba(0, 0, 0, 0.15);\n",
              "      filter: drop-shadow(0px 1px 2px rgba(0, 0, 0, 0.3));\n",
              "      fill: #FFFFFF;\n",
              "    }\n",
              "  </style>\n",
              "\n",
              "      <script>\n",
              "        const buttonEl =\n",
              "          document.querySelector('#df-e03aab3f-4a27-4f99-93c4-360ec4bd9943 button.colab-df-convert');\n",
              "        buttonEl.style.display =\n",
              "          google.colab.kernel.accessAllowed ? 'block' : 'none';\n",
              "\n",
              "        async function convertToInteractive(key) {\n",
              "          const element = document.querySelector('#df-e03aab3f-4a27-4f99-93c4-360ec4bd9943');\n",
              "          const dataTable =\n",
              "            await google.colab.kernel.invokeFunction('convertToInteractive',\n",
              "                                                     [key], {});\n",
              "          if (!dataTable) return;\n",
              "\n",
              "          const docLinkHtml = 'Like what you see? Visit the ' +\n",
              "            '<a target=\"_blank\" href=https://colab.research.google.com/notebooks/data_table.ipynb>data table notebook</a>'\n",
              "            + ' to learn more about interactive tables.';\n",
              "          element.innerHTML = '';\n",
              "          dataTable['output_type'] = 'display_data';\n",
              "          await google.colab.output.renderOutput(dataTable, element);\n",
              "          const docLink = document.createElement('div');\n",
              "          docLink.innerHTML = docLinkHtml;\n",
              "          element.appendChild(docLink);\n",
              "        }\n",
              "      </script>\n",
              "    </div>\n",
              "  </div>\n",
              "  "
            ],
            "text/plain": [
              "gender_cat  Female   Male\n",
              "alco_cat                 \n",
              "Bebe           813   5356\n",
              "No bebe      44717  19114"
            ]
          },
          "metadata": {},
          "execution_count": 30
        }
      ]
    },
    {
      "cell_type": "code",
      "source": [
        "stats.chi2_contingency(ct)"
      ],
      "metadata": {
        "colab": {
          "base_uri": "https://localhost:8080/"
        },
        "id": "TM54CM61op7Z",
        "outputId": "5a7ac6c4-6e21-45ed-dde1-27a36d23b7d0"
      },
      "execution_count": 31,
      "outputs": [
        {
          "output_type": "execute_result",
          "data": {
            "text/plain": [
              "(8000.974644365797, 0.0, 1, array([[ 4012.49385714,  2156.50614286],\n",
              "        [41517.50614286, 22313.49385714]]))"
            ]
          },
          "metadata": {},
          "execution_count": 31
        }
      ]
    },
    {
      "cell_type": "code",
      "source": [
        "stats.chi2_contingency(ct)\n",
        "#Ploting the cross tabulation\n",
        "my_ct2=my_ct.transpose() #Primero hay que treansponer la tabla para poder representarla graficamente\n",
        "my_ct2.plot(kind=\"bar\", edgecolor = \"black\", colormap='Blues') #Mapas de colores https://matplotlib.org/2.0.2/examples/color/colormaps_reference.html\n",
        "props = dict(boxstyle='round', facecolor='white', lw=0.5)\n",
        "plt.text(1.4, 81.5, 'Chi2: ''\\n''n: 70000' '\\n' 'Pval.: 0.0', bbox=props)\n",
        "plt.xlabel('Sexo')\n",
        "plt.title('Porcentaje de personas que beben y no beben alcohol por sexo.''\\n')\n",
        "plt.ylabel('Porcentaje')\n",
        "plt.legend(['Bebe','No bebe'])\n",
        "plt.ylim(0,100)\n",
        "plt.xticks(rotation='horizontal')\n",
        "plt.show()"
      ],
      "metadata": {
        "colab": {
          "base_uri": "https://localhost:8080/",
          "height": 310
        },
        "id": "uNOUUeEmdq-m",
        "outputId": "7c896b8a-a54e-462f-8999-a1383afd7dc1"
      },
      "execution_count": 73,
      "outputs": [
        {
          "output_type": "display_data",
          "data": {
            "image/png": "[encoded data removed]",
            "text/plain": [
              "<Figure size 432x288 with 1 Axes>"
            ]
          },
          "metadata": {
            "needs_background": "light"
          }
        }
      ]
    },
    {
      "cell_type": "markdown",
      "source": [
        "Concluimos que los hombres beben más alcohol que las mujeres"
      ],
      "metadata": {
        "id": "ufVSm_WcyEyK"
      }
    },
    {
      "cell_type": "markdown",
      "source": [
        "# REVISAR ESTA PARTE DEL CÓDIGO"
      ],
      "metadata": {
        "id": "CiXqe8mxwMz5"
      }
    },
    {
      "cell_type": "code",
      "source": [
        "'''dataset.plot(kind=\"bar\", edgecolor = \"black\", colormap='Blues') #Mapas de colores https://matplotlib.org/2.0.2/examples/color/colormaps_reference.html\n",
        "props = dict(boxstyle='round', facecolor='white', lw=0.5)\n",
        "plt.text(-0.4, 81, 'Chi2: 4.983''\\n''n: 731' '\\n' 'Pval.: 0.083', bbox=props)\n",
        "plt.xlabel('Bebe o no bebe')\n",
        "plt.title('Figure 7. Percentage of Rental level, by Working Day.''\\n')\n",
        "plt.legend(['Female','Male'])\n",
        "plt.ylim(0,70000)\n",
        "plt.xticks(rotation='horizontal')\n",
        "\n",
        "#plt.savefig('cross_tab_plot2.svg')\n",
        "'''"
      ],
      "metadata": {
        "colab": {
          "base_uri": "https://localhost:8080/",
          "height": 88
        },
        "id": "ZB2lsvh6bo5X",
        "outputId": "8d831773-605f-4141-9af4-16e139aa9e0d"
      },
      "execution_count": 74,
      "outputs": [
        {
          "output_type": "execute_result",
          "data": {
            "application/vnd.google.colaboratory.intrinsic+json": {
              "type": "string"
            },
            "text/plain": [
              "'dataset.plot(kind=\"bar\", edgecolor = \"black\", colormap=\\'Blues\\') #Mapas de colores https://matplotlib.org/2.0.2/examples/color/colormaps_reference.html\\nprops = dict(boxstyle=\\'round\\', facecolor=\\'white\\', lw=0.5)\\nplt.text(-0.4, 81, \\'Chi2: 4.983\\'\\'\\n\\'\\'n: 731\\' \\'\\n\\' \\'Pval.: 0.083\\', bbox=props)\\nplt.xlabel(\\'Bebe o no bebe\\')\\nplt.title(\\'Figure 7. Percentage of Rental level, by Working Day.\\'\\'\\n\\')\\nplt.legend([\\'Female\\',\\'Male\\'])\\nplt.ylim(0,70000)\\nplt.xticks(rotation=\\'horizontal\\')\\n\\n#plt.savefig(\\'cross_tab_plot2.svg\\')\\n'"
            ]
          },
          "metadata": {},
          "execution_count": 74
        }
      ]
    },
    {
      "cell_type": "code",
      "source": [
        "'''\n",
        "#Descriptive comparison\n",
        "dataset.groupby('gender_cat').alco.mean()\n",
        "#Statistical comparison\n",
        "mujer_noalco=dataset.loc[dataset.gender_cat=='Female', \"alco\"]\n",
        "hombre_noalco=dataset.loc[dataset.gender_cat=='Male', \"alco\"]\n",
        "mujer_alco=dataset.loc[dataset.gender_cat=='Female', \"alco\"]\n",
        "hombre_alco=dataset.loc[dataset.gender_cat=='Male', \"alco\"]\n",
        "\n",
        "stats.f_oneway(mujer_noalco, hombre_noalco, mujer_alco, hombre_alco)\n",
        "'''"
      ],
      "metadata": {
        "colab": {
          "base_uri": "https://localhost:8080/",
          "height": 70
        },
        "id": "Hgfmq36Zw7-X",
        "outputId": "8ae9113e-c19e-46be-eef8-4ec950a0d2b7"
      },
      "execution_count": 34,
      "outputs": [
        {
          "output_type": "execute_result",
          "data": {
            "application/vnd.google.colaboratory.intrinsic+json": {
              "type": "string"
            },
            "text/plain": [
              "'\\n#Descriptive comparison\\ndataset.groupby(\\'gender_cat\\').alco.mean()\\n#Statistical comparison\\nmujer_noalco=dataset.loc[dataset.gender_cat==\\'Female\\', \"alco\"]\\nhombre_noalco=dataset.loc[dataset.gender_cat==\\'Male\\', \"alco\"]\\nmujer_alco=dataset.loc[dataset.gender_cat==\\'Female\\', \"alco\"]\\nhombre_alco=dataset.loc[dataset.gender_cat==\\'Male\\', \"alco\"]\\n\\nstats.f_oneway(mujer_noalco, hombre_noalco, mujer_alco, hombre_alco)\\n'"
            ]
          },
          "metadata": {},
          "execution_count": 34
        }
      ]
    },
    {
      "cell_type": "markdown",
      "source": [
        "# Y tabaco, ¿quien fuma más?"
      ],
      "metadata": {
        "id": "H7IDad0zwm36"
      }
    },
    {
      "cell_type": "code",
      "source": [
        "smoke_table = dataset.groupby(['smoke']).size()\n",
        "print(smoke_table)\n",
        "n=smoke_table.sum()\n",
        "smoke_table2 = (smoke_table/n)*100\n",
        "print(smoke_table2)\n",
        "n=smoke_table.sum()"
      ],
      "metadata": {
        "colab": {
          "base_uri": "https://localhost:8080/"
        },
        "id": "G9rayrfHxlCO",
        "outputId": "906ae043-ced4-4cd0-e846-3f84d2775b34"
      },
      "execution_count": 36,
      "outputs": [
        {
          "output_type": "stream",
          "name": "stdout",
          "text": [
            "smoke\n",
            "0    63831\n",
            "1     6169\n",
            "dtype: int64\n",
            "smoke\n",
            "0    91.187143\n",
            "1     8.812857\n",
            "dtype: float64\n"
          ]
        }
      ]
    },
    {
      "cell_type": "code",
      "source": [
        "#Crostabulation\n",
        "pd.crosstab(dataset.smoke_cat, dataset.gender_cat, margins=True) #1º la VD target, 2º La predicción\n",
        "pd.crosstab(dataset.smoke_cat, dataset.gender_cat,normalize='columns', margins=True)*100 #Para que nos de en porcentajes\n",
        "my_ct = pd.crosstab(dataset.smoke_cat, dataset.gender_cat,normalize='columns', margins=True)*100\n",
        "my_ct=round(my_ct,1)\n",
        "print(my_ct)"
      ],
      "metadata": {
        "colab": {
          "base_uri": "https://localhost:8080/"
        },
        "id": "jhbvQYv5x45X",
        "outputId": "56077eed-1a09-48e0-a4a0-2b39d589704d"
      },
      "execution_count": 63,
      "outputs": [
        {
          "output_type": "stream",
          "name": "stdout",
          "text": [
            "gender_cat  Female  Male   All\n",
            "smoke_cat                     \n",
            "Fumador        1.8  21.9   8.8\n",
            "No fumador    98.2  78.1  91.2\n"
          ]
        }
      ]
    },
    {
      "cell_type": "code",
      "source": [
        "#Stadistical test\n",
        "ct = pd.crosstab(dataset.smoke_cat, dataset.gender_cat)\n",
        "ct"
      ],
      "metadata": {
        "colab": {
          "base_uri": "https://localhost:8080/",
          "height": 143
        },
        "id": "dl_4QzR5yqJ8",
        "outputId": "52ad4683-bfed-4525-c0de-13532c3ff3b9"
      },
      "execution_count": 57,
      "outputs": [
        {
          "output_type": "execute_result",
          "data": {
            "text/html": [
              "\n",
              "  <div id=\"df-67502518-1545-4a8b-ae98-a6e53ceb1ced\">\n",
              "    <div class=\"colab-df-container\">\n",
              "      <div>\n",
              "<style scoped>\n",
              "    .dataframe tbody tr th:only-of-type {\n",
              "        vertical-align: middle;\n",
              "    }\n",
              "\n",
              "    .dataframe tbody tr th {\n",
              "        vertical-align: top;\n",
              "    }\n",
              "\n",
              "    .dataframe thead th {\n",
              "        text-align: right;\n",
              "    }\n",
              "</style>\n",
              "<table border=\"1\" class=\"dataframe\">\n",
              "  <thead>\n",
              "    <tr style=\"text-align: right;\">\n",
              "      <th>gender_cat</th>\n",
              "      <th>Female</th>\n",
              "      <th>Male</th>\n",
              "    </tr>\n",
              "    <tr>\n",
              "      <th>smoke_cat</th>\n",
              "      <th></th>\n",
              "      <th></th>\n",
              "    </tr>\n",
              "  </thead>\n",
              "  <tbody>\n",
              "    <tr>\n",
              "      <th>Fumador</th>\n",
              "      <td>813</td>\n",
              "      <td>5356</td>\n",
              "    </tr>\n",
              "    <tr>\n",
              "      <th>No fumador</th>\n",
              "      <td>44717</td>\n",
              "      <td>19114</td>\n",
              "    </tr>\n",
              "  </tbody>\n",
              "</table>\n",
              "</div>\n",
              "      <button class=\"colab-df-convert\" onclick=\"convertToInteractive('df-67502518-1545-4a8b-ae98-a6e53ceb1ced')\"\n",
              "              title=\"Convert this dataframe to an interactive table.\"\n",
              "              style=\"display:none;\">\n",
              "        \n",
              "  <svg xmlns=\"http://www.w3.org/2000/svg\" height=\"24px\"viewBox=\"0 0 24 24\"\n",
              "       width=\"24px\">\n",
              "    <path d=\"M0 0h24v24H0V0z\" fill=\"none\"/>\n",
              "    <path d=\"M18.56 5.44l.94 2.06.94-2.06 2.06-.94-2.06-.94-.94-2.06-.94 2.06-2.06.94zm-11 1L8.5 8.5l.94-2.06 2.06-.94-2.06-.94L8.5 2.5l-.94 2.06-2.06.94zm10 10l.94 2.06.94-2.06 2.06-.94-2.06-.94-.94-2.06-.94 2.06-2.06.94z\"/><path d=\"M17.41 7.96l-1.37-1.37c-.4-.4-.92-.59-1.43-.59-.52 0-1.04.2-1.43.59L10.3 9.45l-7.72 7.72c-.78.78-.78 2.05 0 2.83L4 21.41c.39.39.9.59 1.41.59.51 0 1.02-.2 1.41-.59l7.78-7.78 2.81-2.81c.8-.78.8-2.07 0-2.86zM5.41 20L4 18.59l7.72-7.72 1.47 1.35L5.41 20z\"/>\n",
              "  </svg>\n",
              "      </button>\n",
              "      \n",
              "  <style>\n",
              "    .colab-df-container {\n",
              "      display:flex;\n",
              "      flex-wrap:wrap;\n",
              "      gap: 12px;\n",
              "    }\n",
              "\n",
              "    .colab-df-convert {\n",
              "      background-color: #E8F0FE;\n",
              "      border: none;\n",
              "      border-radius: 50%;\n",
              "      cursor: pointer;\n",
              "      display: none;\n",
              "      fill: #1967D2;\n",
              "      height: 32px;\n",
              "      padding: 0 0 0 0;\n",
              "      width: 32px;\n",
              "    }\n",
              "\n",
              "    .colab-df-convert:hover {\n",
              "      background-color: #E2EBFA;\n",
              "      box-shadow: 0px 1px 2px rgba(60, 64, 67, 0.3), 0px 1px 3px 1px rgba(60, 64, 67, 0.15);\n",
              "      fill: #174EA6;\n",
              "    }\n",
              "\n",
              "    [theme=dark] .colab-df-convert {\n",
              "      background-color: #3B4455;\n",
              "      fill: #D2E3FC;\n",
              "    }\n",
              "\n",
              "    [theme=dark] .colab-df-convert:hover {\n",
              "      background-color: #434B5C;\n",
              "      box-shadow: 0px 1px 3px 1px rgba(0, 0, 0, 0.15);\n",
              "      filter: drop-shadow(0px 1px 2px rgba(0, 0, 0, 0.3));\n",
              "      fill: #FFFFFF;\n",
              "    }\n",
              "  </style>\n",
              "\n",
              "      <script>\n",
              "        const buttonEl =\n",
              "          document.querySelector('#df-67502518-1545-4a8b-ae98-a6e53ceb1ced button.colab-df-convert');\n",
              "        buttonEl.style.display =\n",
              "          google.colab.kernel.accessAllowed ? 'block' : 'none';\n",
              "\n",
              "        async function convertToInteractive(key) {\n",
              "          const element = document.querySelector('#df-67502518-1545-4a8b-ae98-a6e53ceb1ced');\n",
              "          const dataTable =\n",
              "            await google.colab.kernel.invokeFunction('convertToInteractive',\n",
              "                                                     [key], {});\n",
              "          if (!dataTable) return;\n",
              "\n",
              "          const docLinkHtml = 'Like what you see? Visit the ' +\n",
              "            '<a target=\"_blank\" href=https://colab.research.google.com/notebooks/data_table.ipynb>data table notebook</a>'\n",
              "            + ' to learn more about interactive tables.';\n",
              "          element.innerHTML = '';\n",
              "          dataTable['output_type'] = 'display_data';\n",
              "          await google.colab.output.renderOutput(dataTable, element);\n",
              "          const docLink = document.createElement('div');\n",
              "          docLink.innerHTML = docLinkHtml;\n",
              "          element.appendChild(docLink);\n",
              "        }\n",
              "      </script>\n",
              "    </div>\n",
              "  </div>\n",
              "  "
            ],
            "text/plain": [
              "gender_cat  Female   Male\n",
              "smoke_cat                \n",
              "Fumador        813   5356\n",
              "No fumador   44717  19114"
            ]
          },
          "metadata": {},
          "execution_count": 57
        }
      ]
    },
    {
      "cell_type": "code",
      "source": [
        "stats.chi2_contingency(ct)"
      ],
      "metadata": {
        "colab": {
          "base_uri": "https://localhost:8080/"
        },
        "id": "eREZg_j_y0NX",
        "outputId": "963038e2-e035-4487-a752-3a4742cc96af"
      },
      "execution_count": 58,
      "outputs": [
        {
          "output_type": "execute_result",
          "data": {
            "text/plain": [
              "(8000.974644365797, 0.0, 1, array([[ 4012.49385714,  2156.50614286],\n",
              "        [41517.50614286, 22313.49385714]]))"
            ]
          },
          "metadata": {},
          "execution_count": 58
        }
      ]
    },
    {
      "cell_type": "code",
      "source": [
        "stats.chi2_contingency(ct)\n",
        "#Ploting the cross tabulation\n",
        "my_ct2=my_ct.transpose() #Primero hay que treansponer la tabla para poder representarla graficamente\n",
        "my_ct2.plot(kind=\"bar\", edgecolor = \"black\", colormap='Blues') #Mapas de colores https://matplotlib.org/2.0.2/examples/color/colormaps_reference.html\n",
        "props = dict(boxstyle='round', facecolor='white', lw=0.5)\n",
        "plt.text(1.4, 81.5, 'Chi2: ''\\n''n: 70000' '\\n' 'Pval.: 0.0', bbox=props)\n",
        "plt.xlabel('Sexo')\n",
        "plt.title('Porcentaje de personas que fuman y no fuman por sexo.''\\n')\n",
        "plt.ylabel('Porcentaje')\n",
        "plt.legend(['Fuma','No fuma'])\n",
        "plt.ylim(0,100)\n",
        "plt.xticks(rotation='horizontal')\n",
        "plt.show()"
      ],
      "metadata": {
        "colab": {
          "base_uri": "https://localhost:8080/",
          "height": 310
        },
        "id": "sKa83kSPy9bg",
        "outputId": "867c14b5-6156-4b68-f2f4-cf3c01952169"
      },
      "execution_count": 76,
      "outputs": [
        {
          "output_type": "display_data",
          "data": {
            "image/png": "[encoded data removed]",
            "text/plain": [
              "<Figure size 432x288 with 1 Axes>"
            ]
          },
          "metadata": {
            "needs_background": "light"
          }
        }
      ]
    }
  ]
}